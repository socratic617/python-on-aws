{
 "cells": [
  {
   "cell_type": "markdown",
   "metadata": {},
   "source": [
    "## X-Ray Daemon Command\n",
    "\n",
    "```bash\n",
    "docker run --rm \\\n",
    "    --attach STDOUT \\\n",
    "    -v ~/.aws/:/root/.aws/:ro \\\n",
    "    --net=host \\\n",
    "    -e AWS_REGION=us-east-2 \\\n",
    "    -p 2000:2000/udp \\\n",
    "    public.ecr.aws/xray/aws-xray-daemon:3.x --help\n",
    "```\n",
    "\n",
    "```text\n",
    "Usage: X-Ray [options]\n",
    "        -a      --resource-arn  Amazon Resource Name (ARN) of the AWS resource running the daemon.\n",
    "        -o      --local-mode    Don't check for EC2 instance metadata.\n",
    "        -m      --buffer-memory Change the amount of memory in MB that buffers can use (minimum 3).\n",
    "        -n      --region        Send segments to X-Ray service in a specific region.\n",
    "        -b      --bind          Overrides default UDP address (127.0.0.1:2000).\n",
    "        -t      --bind-tcp      Overrides default TCP address (127.0.0.1:2000).\n",
    "        -r      --role-arn      Assume the specified IAM role to upload segments to a different account.\n",
    "        -c      --config        Load a configuration file from the specified path.\n",
    "        -f      --log-file      Output logs to the specified file path.\n",
    "        -l      --log-level     Log level, from most verbose to least: dev, debug, info, warn, error, prod (default).\n",
    "        -p      --proxy-address Proxy address through which to upload segments.\n",
    "        -v      --version       Show AWS X-Ray daemon version.\n",
    "        -h      --help          Show this screen\n",
    "```\n",
    "\n",
    "## Start the XRay Daemon\n",
    "\n",
    "```bash\n",
    "# export profile as env vars\n",
    "eval \"$(aws configure export-credentials --profile cloud-course --format env)\"\n",
    "\n",
    "# run the xray daemon in local mode i.e. skip checking for EC2 instance metadata\n",
    "docker run --rm \\\n",
    "    --attach STDOUT \\\n",
    "    --net=host \\\n",
    "    -e AWS_REGION=us-west-2 \\\n",
    "    -e AWS_ACCESS_KEY_ID \\\n",
    "    -e AWS_SECRET_ACCESS_KEY \\\n",
    "    -e AWS_SESSION_TOKEN \\\n",
    "    -p 2000:2000/udp \\\n",
    "    public.ecr.aws/xray/aws-xray-daemon:3.x \\\n",
    "        --local-mode \\\n",
    "        --log-level dev \\\n",
    "        --bind 0.0.0.0:2000 \\\n",
    "        --bind-tcp 0.0.0.0:2000\n",
    "```"
   ]
  },
  {
   "cell_type": "code",
   "execution_count": 35,
   "metadata": {},
   "outputs": [
    {
     "ename": "TypeError",
     "evalue": "'<' not supported between instances of 'NoneType' and 'int'",
     "output_type": "error",
     "traceback": [
      "\u001b[0;31m---------------------------------------------------------------------------\u001b[0m",
      "\u001b[0;31mTypeError\u001b[0m                                 Traceback (most recent call last)",
      "Cell \u001b[0;32mIn[35], line 40\u001b[0m\n\u001b[1;32m     11\u001b[0m sampling_rules \u001b[38;5;241m=\u001b[39m {\n\u001b[1;32m     12\u001b[0m     \u001b[38;5;124m\"\u001b[39m\u001b[38;5;124mversion\u001b[39m\u001b[38;5;124m\"\u001b[39m: \u001b[38;5;241m1\u001b[39m,  \u001b[38;5;66;03m# Ensure the version field is set correctly\u001b[39;00m\n\u001b[1;32m     13\u001b[0m     \u001b[38;5;124m\"\u001b[39m\u001b[38;5;124mrules\u001b[39m\u001b[38;5;124m\"\u001b[39m: [\n\u001b[0;32m   (...)\u001b[0m\n\u001b[1;32m     36\u001b[0m     }\n\u001b[1;32m     37\u001b[0m }\n\u001b[1;32m     39\u001b[0m \u001b[38;5;66;03m# trace config\u001b[39;00m\n\u001b[0;32m---> 40\u001b[0m \u001b[43mxray_recorder\u001b[49m\u001b[38;5;241;43m.\u001b[39;49m\u001b[43mconfigure\u001b[49m\u001b[43m(\u001b[49m\n\u001b[1;32m     41\u001b[0m \u001b[43m    \u001b[49m\u001b[43mservice\u001b[49m\u001b[38;5;241;43m=\u001b[39;49m\u001b[38;5;124;43m\"\u001b[39;49m\u001b[38;5;124;43mmy-service\u001b[39;49m\u001b[38;5;124;43m\"\u001b[39;49m\u001b[43m,\u001b[49m\n\u001b[1;32m     42\u001b[0m \u001b[43m    \u001b[49m\u001b[43mdaemon_address\u001b[49m\u001b[38;5;241;43m=\u001b[39;49m\u001b[38;5;124;43m\"\u001b[39;49m\u001b[38;5;124;43mlocalhost:2000\u001b[39;49m\u001b[38;5;124;43m\"\u001b[39;49m\u001b[43m,\u001b[49m\n\u001b[1;32m     43\u001b[0m \u001b[43m    \u001b[49m\u001b[43msampling\u001b[49m\u001b[38;5;241;43m=\u001b[39;49m\u001b[38;5;28;43;01mTrue\u001b[39;49;00m\u001b[43m,\u001b[49m\n\u001b[1;32m     44\u001b[0m \u001b[43m    \u001b[49m\u001b[43msampling_rules\u001b[49m\u001b[38;5;241;43m=\u001b[39;49m\u001b[43msampling_rules\u001b[49m\u001b[43m,\u001b[49m\n\u001b[1;32m     45\u001b[0m \u001b[43m)\u001b[49m\n",
      "File \u001b[0;32m~/repos/python-aws-course/python-on-aws-course/section-4--observability/venv/lib/python3.9/site-packages/aws_xray_sdk/core/recorder.py:150\u001b[0m, in \u001b[0;36mAWSXRayRecorder.configure\u001b[0;34m(self, sampling, plugins, context_missing, sampling_rules, daemon_address, service, context, emitter, streaming, dynamic_naming, streaming_threshold, max_trace_back, sampler, stream_sql)\u001b[0m\n\u001b[1;32m    148\u001b[0m     \u001b[38;5;28mself\u001b[39m\u001b[38;5;241m.\u001b[39mservice \u001b[38;5;241m=\u001b[39m os\u001b[38;5;241m.\u001b[39mgetenv(TRACING_NAME_KEY, service)\n\u001b[1;32m    149\u001b[0m \u001b[38;5;28;01mif\u001b[39;00m sampling_rules:\n\u001b[0;32m--> 150\u001b[0m     \u001b[38;5;28;43mself\u001b[39;49m\u001b[38;5;241;43m.\u001b[39;49m\u001b[43m_load_sampling_rules\u001b[49m\u001b[43m(\u001b[49m\u001b[43msampling_rules\u001b[49m\u001b[43m)\u001b[49m\n\u001b[1;32m    151\u001b[0m \u001b[38;5;28;01mif\u001b[39;00m emitter:\n\u001b[1;32m    152\u001b[0m     \u001b[38;5;28mself\u001b[39m\u001b[38;5;241m.\u001b[39memitter \u001b[38;5;241m=\u001b[39m emitter\n",
      "File \u001b[0;32m~/repos/python-aws-course/python-on-aws-course/section-4--observability/venv/lib/python3.9/site-packages/aws_xray_sdk/core/recorder.py:518\u001b[0m, in \u001b[0;36mAWSXRayRecorder._load_sampling_rules\u001b[0;34m(self, sampling_rules)\u001b[0m\n\u001b[1;32m    515\u001b[0m     \u001b[38;5;28;01mreturn\u001b[39;00m\n\u001b[1;32m    517\u001b[0m \u001b[38;5;28;01mif\u001b[39;00m \u001b[38;5;28misinstance\u001b[39m(sampling_rules, \u001b[38;5;28mdict\u001b[39m):\n\u001b[0;32m--> 518\u001b[0m     \u001b[38;5;28;43mself\u001b[39;49m\u001b[38;5;241;43m.\u001b[39;49m\u001b[43msampler\u001b[49m\u001b[38;5;241;43m.\u001b[39;49m\u001b[43mload_local_rules\u001b[49m\u001b[43m(\u001b[49m\u001b[43msampling_rules\u001b[49m\u001b[43m)\u001b[49m\n\u001b[1;32m    519\u001b[0m \u001b[38;5;28;01melse\u001b[39;00m:\n\u001b[1;32m    520\u001b[0m     \u001b[38;5;28;01mwith\u001b[39;00m \u001b[38;5;28mopen\u001b[39m(sampling_rules) \u001b[38;5;28;01mas\u001b[39;00m f:\n",
      "File \u001b[0;32m~/repos/python-aws-course/python-on-aws-course/section-4--observability/venv/lib/python3.9/site-packages/aws_xray_sdk/core/sampling/sampler.py:81\u001b[0m, in \u001b[0;36mDefaultSampler.load_local_rules\u001b[0;34m(self, rules)\u001b[0m\n\u001b[1;32m     77\u001b[0m \u001b[38;5;28;01mdef\u001b[39;00m \u001b[38;5;21mload_local_rules\u001b[39m(\u001b[38;5;28mself\u001b[39m, rules):\n\u001b[1;32m     78\u001b[0m \u001b[38;5;250m    \u001b[39m\u001b[38;5;124;03m\"\"\"\u001b[39;00m\n\u001b[1;32m     79\u001b[0m \u001b[38;5;124;03m    Load specified local rules to local fallback sampler.\u001b[39;00m\n\u001b[1;32m     80\u001b[0m \u001b[38;5;124;03m    \"\"\"\u001b[39;00m\n\u001b[0;32m---> 81\u001b[0m     \u001b[38;5;28;43mself\u001b[39;49m\u001b[38;5;241;43m.\u001b[39;49m\u001b[43m_local_sampler\u001b[49m\u001b[38;5;241;43m.\u001b[39;49m\u001b[43mload_local_rules\u001b[49m\u001b[43m(\u001b[49m\u001b[43mrules\u001b[49m\u001b[43m)\u001b[49m\n",
      "File \u001b[0;32m~/repos/python-aws-course/python-on-aws-course/section-4--observability/venv/lib/python3.9/site-packages/aws_xray_sdk/core/sampling/local/sampler.py:83\u001b[0m, in \u001b[0;36mLocalSampler.load_local_rules\u001b[0;34m(self, rules)\u001b[0m\n\u001b[1;32m     80\u001b[0m \u001b[38;5;28;01mif\u001b[39;00m \u001b[38;5;124m'\u001b[39m\u001b[38;5;124mdefault\u001b[39m\u001b[38;5;124m'\u001b[39m \u001b[38;5;129;01mnot\u001b[39;00m \u001b[38;5;129;01min\u001b[39;00m rules:\n\u001b[1;32m     81\u001b[0m     \u001b[38;5;28;01mraise\u001b[39;00m InvalidSamplingManifestError(\u001b[38;5;124m'\u001b[39m\u001b[38;5;124mA default rule must be provided.\u001b[39m\u001b[38;5;124m'\u001b[39m)\n\u001b[0;32m---> 83\u001b[0m \u001b[38;5;28mself\u001b[39m\u001b[38;5;241m.\u001b[39m_default_rule \u001b[38;5;241m=\u001b[39m \u001b[43mSamplingRule\u001b[49m\u001b[43m(\u001b[49m\u001b[43mrule_dict\u001b[49m\u001b[38;5;241;43m=\u001b[39;49m\u001b[43mrules\u001b[49m\u001b[43m[\u001b[49m\u001b[38;5;124;43m'\u001b[39;49m\u001b[38;5;124;43mdefault\u001b[39;49m\u001b[38;5;124;43m'\u001b[39;49m\u001b[43m]\u001b[49m\u001b[43m,\u001b[49m\n\u001b[1;32m     84\u001b[0m \u001b[43m                                  \u001b[49m\u001b[43mversion\u001b[49m\u001b[38;5;241;43m=\u001b[39;49m\u001b[43mversion\u001b[49m\u001b[43m,\u001b[49m\n\u001b[1;32m     85\u001b[0m \u001b[43m                                  \u001b[49m\u001b[43mdefault\u001b[49m\u001b[38;5;241;43m=\u001b[39;49m\u001b[38;5;28;43;01mTrue\u001b[39;49;00m\u001b[43m)\u001b[49m\n\u001b[1;32m     87\u001b[0m \u001b[38;5;28mself\u001b[39m\u001b[38;5;241m.\u001b[39m_rules \u001b[38;5;241m=\u001b[39m []\n\u001b[1;32m     88\u001b[0m \u001b[38;5;28;01mif\u001b[39;00m \u001b[38;5;124m'\u001b[39m\u001b[38;5;124mrules\u001b[39m\u001b[38;5;124m'\u001b[39m \u001b[38;5;129;01min\u001b[39;00m rules:\n",
      "File \u001b[0;32m~/repos/python-aws-course/python-on-aws-course/section-4--observability/venv/lib/python3.9/site-packages/aws_xray_sdk/core/sampling/local/sampling_rule.py:39\u001b[0m, in \u001b[0;36mSamplingRule.__init__\u001b[0;34m(self, rule_dict, version, default)\u001b[0m\n\u001b[1;32m     35\u001b[0m \u001b[38;5;28mself\u001b[39m\u001b[38;5;241m.\u001b[39m_path \u001b[38;5;241m=\u001b[39m rule_dict\u001b[38;5;241m.\u001b[39mget(\u001b[38;5;28mself\u001b[39m\u001b[38;5;241m.\u001b[39mPATH, \u001b[38;5;28;01mNone\u001b[39;00m)\n\u001b[1;32m     37\u001b[0m \u001b[38;5;28mself\u001b[39m\u001b[38;5;241m.\u001b[39m_default \u001b[38;5;241m=\u001b[39m default\n\u001b[0;32m---> 39\u001b[0m \u001b[38;5;28;43mself\u001b[39;49m\u001b[38;5;241;43m.\u001b[39;49m\u001b[43m_validate\u001b[49m\u001b[43m(\u001b[49m\u001b[43m)\u001b[49m\n\u001b[1;32m     41\u001b[0m \u001b[38;5;28mself\u001b[39m\u001b[38;5;241m.\u001b[39m_reservoir \u001b[38;5;241m=\u001b[39m Reservoir(\u001b[38;5;28mself\u001b[39m\u001b[38;5;241m.\u001b[39mfixed_target)\n",
      "File \u001b[0;32m~/repos/python-aws-course/python-on-aws-course/section-4--observability/venv/lib/python3.9/site-packages/aws_xray_sdk/core/sampling/local/sampling_rule.py:104\u001b[0m, in \u001b[0;36mSamplingRule._validate\u001b[0;34m(self)\u001b[0m\n\u001b[1;32m    103\u001b[0m \u001b[38;5;28;01mdef\u001b[39;00m \u001b[38;5;21m_validate\u001b[39m(\u001b[38;5;28mself\u001b[39m):\n\u001b[0;32m--> 104\u001b[0m     \u001b[38;5;28;01mif\u001b[39;00m \u001b[38;5;28;43mself\u001b[39;49m\u001b[38;5;241;43m.\u001b[39;49m\u001b[43mfixed_target\u001b[49m\u001b[43m \u001b[49m\u001b[38;5;241;43m<\u001b[39;49m\u001b[43m \u001b[49m\u001b[38;5;241;43m0\u001b[39;49m \u001b[38;5;129;01mor\u001b[39;00m \u001b[38;5;28mself\u001b[39m\u001b[38;5;241m.\u001b[39mrate \u001b[38;5;241m<\u001b[39m \u001b[38;5;241m0\u001b[39m:\n\u001b[1;32m    105\u001b[0m         \u001b[38;5;28;01mraise\u001b[39;00m InvalidSamplingManifestError(\u001b[38;5;124m'\u001b[39m\u001b[38;5;124mAll rules must have non-negative values for \u001b[39m\u001b[38;5;124m'\u001b[39m\n\u001b[1;32m    106\u001b[0m                                            \u001b[38;5;124m'\u001b[39m\u001b[38;5;124mfixed_target and rate\u001b[39m\u001b[38;5;124m'\u001b[39m)\n\u001b[1;32m    108\u001b[0m     \u001b[38;5;28;01mif\u001b[39;00m \u001b[38;5;28mself\u001b[39m\u001b[38;5;241m.\u001b[39m_default:\n",
      "\u001b[0;31mTypeError\u001b[0m: '<' not supported between instances of 'NoneType' and 'int'"
     ]
    }
   ],
   "source": [
    "import httpx\n",
    "\n",
    "from aws_xray_sdk.core import (\n",
    "    patch_all,\n",
    "    xray_recorder,\n",
    ")\n",
    "\n",
    "# Patch all libraries to be instrumented by AWS X-Ray\n",
    "# patch_all()\n",
    "\n",
    "sampling_rules = {\n",
    "    \"version\": 1,  # Ensure the version field is set correctly\n",
    "    \"rules\": [\n",
    "        {\n",
    "            \"RuleName\": \"DefaultRule\",\n",
    "            \"Priority\": 1,\n",
    "            \"FixedRate\": 1.0,\n",
    "            \"ReservoirSize\": 100,\n",
    "            \"ServiceName\": \"*\",\n",
    "            \"ServiceType\": \"*\",\n",
    "            \"HTTPMethod\": \"*\",\n",
    "            \"URLPath\": \"*\",\n",
    "            \"Host\": \"*\",\n",
    "            \"ResourceARN\": \"*\",\n",
    "            \"Version\": 1,\n",
    "        },\n",
    "        {\n",
    "            \"RuleName\": \"default\",\n",
    "            \"FixedRate\": 0.05,\n",
    "            \"ReservoirSize\": 1\n",
    "        }\n",
    "    ],\n",
    "    \"default\": {\n",
    "        \"FixedRate\": 0.1,\n",
    "        \"ReservoirSize\": 1\n",
    "    }\n",
    "}\n",
    "\n",
    "# trace config\n",
    "xray_recorder.configure(\n",
    "    service=\"my-service\",\n",
    "    daemon_address=\"localhost:2000\",\n",
    "    sampling=True,\n",
    "    sampling_rules=sampling_rules,\n",
    ")\n"
   ]
  },
  {
   "cell_type": "code",
   "execution_count": 26,
   "metadata": {},
   "outputs": [
    {
     "name": "stdout",
     "output_type": "stream",
     "text": [
      "hi\n"
     ]
    }
   ],
   "source": [
    "async with xray_recorder.in_segment_async(\"FastAPI Segment\") as segment:\n",
    "    try:\n",
    "        print(\"hi\")\n",
    "    except Exception as e:\n",
    "        segment.put_annotation(\"error\", str(e))\n",
    "        raise e\n",
    "    \n"
   ]
  },
  {
   "cell_type": "code",
   "execution_count": 4,
   "metadata": {},
   "outputs": [],
   "source": [
    "segment = xray_recorder.begin_segment(\"my-segment\")"
   ]
  },
  {
   "cell_type": "code",
   "execution_count": 5,
   "metadata": {},
   "outputs": [
    {
     "data": {
      "text/html": [
       "<pre style=\"white-space:pre;overflow-x:auto;line-height:normal;font-family:Menlo,'DejaVu Sans Mono',consolas,'Courier New',monospace\"><span style=\"color: #000080; text-decoration-color: #000080\">╭──────────────────── </span><span style=\"color: #000080; text-decoration-color: #000080; font-weight: bold\">&lt;</span><span style=\"color: #ff00ff; text-decoration-color: #ff00ff; font-weight: bold\">class</span><span style=\"color: #000000; text-decoration-color: #000000\"> </span><span style=\"color: #008000; text-decoration-color: #008000\">'aws_xray_sdk.core.models.segment.Segment'</span><span style=\"color: #000080; text-decoration-color: #000080; font-weight: bold\">&gt;</span><span style=\"color: #000080; text-decoration-color: #000080\"> ────────────────────╮</span>\n",
       "<span style=\"color: #000080; text-decoration-color: #000080\">│</span> <span style=\"color: #008080; text-decoration-color: #008080\">The compute resources running your application logic send data</span>                             <span style=\"color: #000080; text-decoration-color: #000080\">│</span>\n",
       "<span style=\"color: #000080; text-decoration-color: #000080\">│</span> <span style=\"color: #008080; text-decoration-color: #008080\">about their work as segments. A segment provides the resource's name,</span>                      <span style=\"color: #000080; text-decoration-color: #000080\">│</span>\n",
       "<span style=\"color: #000080; text-decoration-color: #000080\">│</span> <span style=\"color: #008080; text-decoration-color: #008080\">details about the request, and details about the work done.</span>                                <span style=\"color: #000080; text-decoration-color: #000080\">│</span>\n",
       "<span style=\"color: #000080; text-decoration-color: #000080\">│</span>                                                                                            <span style=\"color: #000080; text-decoration-color: #000080\">│</span>\n",
       "<span style=\"color: #000080; text-decoration-color: #000080\">│</span> <span style=\"color: #008000; text-decoration-color: #008000\">╭────────────────────────────────────────────────────────────────────────────────────────╮</span> <span style=\"color: #000080; text-decoration-color: #000080\">│</span>\n",
       "<span style=\"color: #000080; text-decoration-color: #000080\">│</span> <span style=\"color: #008000; text-decoration-color: #008000\">│</span> <span style=\"font-weight: bold\">&lt;</span><span style=\"color: #ff00ff; text-decoration-color: #ff00ff; font-weight: bold\">aws_xray_sdk.core.models.segment.Segment</span><span style=\"color: #000000; text-decoration-color: #000000\"> object at </span><span style=\"color: #008080; text-decoration-color: #008080; font-weight: bold\">0x1125f6fd0</span><span style=\"font-weight: bold\">&gt;</span>                       <span style=\"color: #008000; text-decoration-color: #008000\">│</span> <span style=\"color: #000080; text-decoration-color: #000080\">│</span>\n",
       "<span style=\"color: #000080; text-decoration-color: #000080\">│</span> <span style=\"color: #008000; text-decoration-color: #008000\">╰────────────────────────────────────────────────────────────────────────────────────────╯</span> <span style=\"color: #000080; text-decoration-color: #000080\">│</span>\n",
       "<span style=\"color: #000080; text-decoration-color: #000080\">│</span>                                                                                            <span style=\"color: #000080; text-decoration-color: #000080\">│</span>\n",
       "<span style=\"color: #000080; text-decoration-color: #000080\">│</span> <span style=\"color: #808000; text-decoration-color: #808000; font-style: italic\">annotations</span> = <span style=\"font-weight: bold\">{}</span>                                                                           <span style=\"color: #000080; text-decoration-color: #000080\">│</span>\n",
       "<span style=\"color: #000080; text-decoration-color: #000080\">│</span>         <span style=\"color: #808000; text-decoration-color: #808000; font-style: italic\">aws</span> = <span style=\"font-weight: bold\">{</span><span style=\"color: #008000; text-decoration-color: #008000\">'xray'</span>: <span style=\"font-weight: bold\">{</span><span style=\"color: #008000; text-decoration-color: #008000\">'sdk'</span>: <span style=\"color: #008000; text-decoration-color: #008000\">'X-Ray for Python'</span>, <span style=\"color: #008000; text-decoration-color: #008000\">'sdk_version'</span>: <span style=\"color: #008000; text-decoration-color: #008000\">'2.14.0'</span><span style=\"font-weight: bold\">}}</span>               <span style=\"color: #000080; text-decoration-color: #000080\">│</span>\n",
       "<span style=\"color: #000080; text-decoration-color: #000080\">│</span>       <span style=\"color: #808000; text-decoration-color: #808000; font-style: italic\">cause</span> = <span style=\"font-weight: bold\">{}</span>                                                                           <span style=\"color: #000080; text-decoration-color: #000080\">│</span>\n",
       "<span style=\"color: #000080; text-decoration-color: #000080\">│</span>        <span style=\"color: #808000; text-decoration-color: #808000; font-style: italic\">http</span> = <span style=\"font-weight: bold\">{}</span>                                                                           <span style=\"color: #000080; text-decoration-color: #000080\">│</span>\n",
       "<span style=\"color: #000080; text-decoration-color: #000080\">│</span>          <span style=\"color: #808000; text-decoration-color: #808000; font-style: italic\">id</span> = <span style=\"color: #008000; text-decoration-color: #008000\">'646b5d01d49c2567'</span>                                                           <span style=\"color: #000080; text-decoration-color: #000080\">│</span>\n",
       "<span style=\"color: #000080; text-decoration-color: #000080\">│</span> <span style=\"color: #808000; text-decoration-color: #808000; font-style: italic\">in_progress</span> = <span style=\"color: #00ff00; text-decoration-color: #00ff00; font-style: italic\">True</span>                                                                         <span style=\"color: #000080; text-decoration-color: #000080\">│</span>\n",
       "<span style=\"color: #000080; text-decoration-color: #000080\">│</span>    <span style=\"color: #808000; text-decoration-color: #808000; font-style: italic\">metadata</span> = <span style=\"font-weight: bold\">{}</span>                                                                           <span style=\"color: #000080; text-decoration-color: #000080\">│</span>\n",
       "<span style=\"color: #000080; text-decoration-color: #000080\">│</span>        <span style=\"color: #808000; text-decoration-color: #808000; font-style: italic\">name</span> = <span style=\"color: #008000; text-decoration-color: #008000\">'my-segment'</span>                                                                 <span style=\"color: #000080; text-decoration-color: #000080\">│</span>\n",
       "<span style=\"color: #000080; text-decoration-color: #000080\">│</span>   <span style=\"color: #808000; text-decoration-color: #808000; font-style: italic\">parent_id</span> = <span style=\"color: #800080; text-decoration-color: #800080; font-style: italic\">None</span>                                                                         <span style=\"color: #000080; text-decoration-color: #000080\">│</span>\n",
       "<span style=\"color: #000080; text-decoration-color: #000080\">│</span> <span style=\"color: #808000; text-decoration-color: #808000; font-style: italic\">ref_counter</span> = <span style=\"font-weight: bold\">&lt;</span><span style=\"color: #ff00ff; text-decoration-color: #ff00ff; font-weight: bold\">aws_xray_sdk.core.utils.atomic_counter.AtomicCounter</span><span style=\"color: #000000; text-decoration-color: #000000\"> object at </span><span style=\"color: #008080; text-decoration-color: #008080; font-weight: bold\">0x107a2d520</span><span style=\"font-weight: bold\">&gt;</span> <span style=\"color: #000080; text-decoration-color: #000080\">│</span>\n",
       "<span style=\"color: #000080; text-decoration-color: #000080\">│</span>     <span style=\"color: #808000; text-decoration-color: #808000; font-style: italic\">sampled</span> = <span style=\"color: #00ff00; text-decoration-color: #00ff00; font-style: italic\">True</span>                                                                         <span style=\"color: #000080; text-decoration-color: #000080\">│</span>\n",
       "<span style=\"color: #000080; text-decoration-color: #000080\">│</span>     <span style=\"color: #808000; text-decoration-color: #808000; font-style: italic\">service</span> = <span style=\"font-weight: bold\">{</span><span style=\"color: #008000; text-decoration-color: #008000\">'runtime'</span>: <span style=\"color: #008000; text-decoration-color: #008000\">'CPython'</span>, <span style=\"color: #008000; text-decoration-color: #008000\">'runtime_version'</span>: <span style=\"color: #008000; text-decoration-color: #008000\">'3.9.6'</span><span style=\"font-weight: bold\">}</span>                           <span style=\"color: #000080; text-decoration-color: #000080\">│</span>\n",
       "<span style=\"color: #000080; text-decoration-color: #000080\">│</span>  <span style=\"color: #808000; text-decoration-color: #808000; font-style: italic\">start_time</span> = <span style=\"color: #008080; text-decoration-color: #008080; font-weight: bold\">1722356344.44255</span>                                                             <span style=\"color: #000080; text-decoration-color: #000080\">│</span>\n",
       "<span style=\"color: #000080; text-decoration-color: #000080\">│</span> <span style=\"color: #808000; text-decoration-color: #808000; font-style: italic\">subsegments</span> = <span style=\"font-weight: bold\">[]</span>                                                                           <span style=\"color: #000080; text-decoration-color: #000080\">│</span>\n",
       "<span style=\"color: #000080; text-decoration-color: #000080\">│</span>    <span style=\"color: #808000; text-decoration-color: #808000; font-style: italic\">trace_id</span> = <span style=\"color: #008000; text-decoration-color: #008000\">'1-66a91278-b4d7dc23286df1b3399a861d'</span>                                        <span style=\"color: #000080; text-decoration-color: #000080\">│</span>\n",
       "<span style=\"color: #000080; text-decoration-color: #000080\">│</span>        <span style=\"color: #808000; text-decoration-color: #808000; font-style: italic\">user</span> = <span style=\"color: #800080; text-decoration-color: #800080; font-style: italic\">None</span>                                                                         <span style=\"color: #000080; text-decoration-color: #000080\">│</span>\n",
       "<span style=\"color: #000080; text-decoration-color: #000080\">╰────────────────────────────────────────────────────────────────────────────────────────────╯</span>\n",
       "</pre>\n"
      ],
      "text/plain": [
       "\u001b[34m╭─\u001b[0m\u001b[34m───────────────────\u001b[0m\u001b[34m \u001b[0m\u001b[1;34m<\u001b[0m\u001b[1;95mclass\u001b[0m\u001b[39m \u001b[0m\u001b[32m'aws_xray_sdk.core.models.segment.Segment'\u001b[0m\u001b[1;34m>\u001b[0m\u001b[34m \u001b[0m\u001b[34m───────────────────\u001b[0m\u001b[34m─╮\u001b[0m\n",
       "\u001b[34m│\u001b[0m \u001b[36mThe compute resources running your application logic send data\u001b[0m                             \u001b[34m│\u001b[0m\n",
       "\u001b[34m│\u001b[0m \u001b[36mabout their work as segments. A segment provides the resource's name,\u001b[0m                      \u001b[34m│\u001b[0m\n",
       "\u001b[34m│\u001b[0m \u001b[36mdetails about the request, and details about the work done.\u001b[0m                                \u001b[34m│\u001b[0m\n",
       "\u001b[34m│\u001b[0m                                                                                            \u001b[34m│\u001b[0m\n",
       "\u001b[34m│\u001b[0m \u001b[32m╭────────────────────────────────────────────────────────────────────────────────────────╮\u001b[0m \u001b[34m│\u001b[0m\n",
       "\u001b[34m│\u001b[0m \u001b[32m│\u001b[0m \u001b[1m<\u001b[0m\u001b[1;95maws_xray_sdk.core.models.segment.Segment\u001b[0m\u001b[39m object at \u001b[0m\u001b[1;36m0x1125f6fd0\u001b[0m\u001b[1m>\u001b[0m                       \u001b[32m│\u001b[0m \u001b[34m│\u001b[0m\n",
       "\u001b[34m│\u001b[0m \u001b[32m╰────────────────────────────────────────────────────────────────────────────────────────╯\u001b[0m \u001b[34m│\u001b[0m\n",
       "\u001b[34m│\u001b[0m                                                                                            \u001b[34m│\u001b[0m\n",
       "\u001b[34m│\u001b[0m \u001b[3;33mannotations\u001b[0m = \u001b[1m{\u001b[0m\u001b[1m}\u001b[0m                                                                           \u001b[34m│\u001b[0m\n",
       "\u001b[34m│\u001b[0m         \u001b[3;33maws\u001b[0m = \u001b[1m{\u001b[0m\u001b[32m'xray'\u001b[0m: \u001b[1m{\u001b[0m\u001b[32m'sdk'\u001b[0m: \u001b[32m'X-Ray for Python'\u001b[0m, \u001b[32m'sdk_version'\u001b[0m: \u001b[32m'2.14.0'\u001b[0m\u001b[1m}\u001b[0m\u001b[1m}\u001b[0m               \u001b[34m│\u001b[0m\n",
       "\u001b[34m│\u001b[0m       \u001b[3;33mcause\u001b[0m = \u001b[1m{\u001b[0m\u001b[1m}\u001b[0m                                                                           \u001b[34m│\u001b[0m\n",
       "\u001b[34m│\u001b[0m        \u001b[3;33mhttp\u001b[0m = \u001b[1m{\u001b[0m\u001b[1m}\u001b[0m                                                                           \u001b[34m│\u001b[0m\n",
       "\u001b[34m│\u001b[0m          \u001b[3;33mid\u001b[0m = \u001b[32m'646b5d01d49c2567'\u001b[0m                                                           \u001b[34m│\u001b[0m\n",
       "\u001b[34m│\u001b[0m \u001b[3;33min_progress\u001b[0m = \u001b[3;92mTrue\u001b[0m                                                                         \u001b[34m│\u001b[0m\n",
       "\u001b[34m│\u001b[0m    \u001b[3;33mmetadata\u001b[0m = \u001b[1m{\u001b[0m\u001b[1m}\u001b[0m                                                                           \u001b[34m│\u001b[0m\n",
       "\u001b[34m│\u001b[0m        \u001b[3;33mname\u001b[0m = \u001b[32m'my-segment'\u001b[0m                                                                 \u001b[34m│\u001b[0m\n",
       "\u001b[34m│\u001b[0m   \u001b[3;33mparent_id\u001b[0m = \u001b[3;35mNone\u001b[0m                                                                         \u001b[34m│\u001b[0m\n",
       "\u001b[34m│\u001b[0m \u001b[3;33mref_counter\u001b[0m = \u001b[1m<\u001b[0m\u001b[1;95maws_xray_sdk.core.utils.atomic_counter.AtomicCounter\u001b[0m\u001b[39m object at \u001b[0m\u001b[1;36m0x107a2d520\u001b[0m\u001b[1m>\u001b[0m \u001b[34m│\u001b[0m\n",
       "\u001b[34m│\u001b[0m     \u001b[3;33msampled\u001b[0m = \u001b[3;92mTrue\u001b[0m                                                                         \u001b[34m│\u001b[0m\n",
       "\u001b[34m│\u001b[0m     \u001b[3;33mservice\u001b[0m = \u001b[1m{\u001b[0m\u001b[32m'runtime'\u001b[0m: \u001b[32m'CPython'\u001b[0m, \u001b[32m'runtime_version'\u001b[0m: \u001b[32m'3.9.6'\u001b[0m\u001b[1m}\u001b[0m                           \u001b[34m│\u001b[0m\n",
       "\u001b[34m│\u001b[0m  \u001b[3;33mstart_time\u001b[0m = \u001b[1;36m1722356344.44255\u001b[0m                                                             \u001b[34m│\u001b[0m\n",
       "\u001b[34m│\u001b[0m \u001b[3;33msubsegments\u001b[0m = \u001b[1m[\u001b[0m\u001b[1m]\u001b[0m                                                                           \u001b[34m│\u001b[0m\n",
       "\u001b[34m│\u001b[0m    \u001b[3;33mtrace_id\u001b[0m = \u001b[32m'1-66a91278-b4d7dc23286df1b3399a861d'\u001b[0m                                        \u001b[34m│\u001b[0m\n",
       "\u001b[34m│\u001b[0m        \u001b[3;33muser\u001b[0m = \u001b[3;35mNone\u001b[0m                                                                         \u001b[34m│\u001b[0m\n",
       "\u001b[34m╰────────────────────────────────────────────────────────────────────────────────────────────╯\u001b[0m\n"
      ]
     },
     "metadata": {},
     "output_type": "display_data"
    }
   ],
   "source": [
    "from rich import inspect\n",
    "inspect(segment)"
   ]
  },
  {
   "cell_type": "code",
   "execution_count": 28,
   "metadata": {},
   "outputs": [
    {
     "name": "stderr",
     "output_type": "stream",
     "text": [
      "can not parse stack trace string, ignore stack field.\n"
     ]
    },
    {
     "name": "stdout",
     "output_type": "stream",
     "text": [
      "Traceback (most recent call last):\n",
      "  File \"/var/folders/f3/pxd2mkvj6cvgxr_d9f2brs7w0000gn/T/ipykernel_11016/4164158313.py\", line 5, in <module>\n",
      "    1 / 0\n",
      "ZeroDivisionError: division by zero\n",
      "\n"
     ]
    }
   ],
   "source": [
    "import traceback\n",
    "\n",
    "segment_2 = xray_recorder.begin_segment(\"my-segment-2\", parent_id=segment.id)\n",
    "try:\n",
    "    1 / 0\n",
    "except ZeroDivisionError as err:\n",
    "    stack = traceback.format_exc()\n",
    "    print(stack)\n",
    "    segment_2.add_exception(err, stack=stack, remote=False)"
   ]
  },
  {
   "cell_type": "code",
   "execution_count": 29,
   "metadata": {},
   "outputs": [
    {
     "data": {
      "text/html": [
       "<pre style=\"white-space:pre;overflow-x:auto;line-height:normal;font-family:Menlo,'DejaVu Sans Mono',consolas,'Courier New',monospace\"><span style=\"color: #000080; text-decoration-color: #000080\">╭────────────────────────────── </span><span style=\"color: #000080; text-decoration-color: #000080; font-weight: bold\">&lt;</span><span style=\"color: #ff00ff; text-decoration-color: #ff00ff; font-weight: bold\">class</span><span style=\"color: #000000; text-decoration-color: #000000\"> </span><span style=\"color: #008000; text-decoration-color: #008000\">'aws_xray_sdk.core.models.segment.Segment'</span><span style=\"color: #000080; text-decoration-color: #000080; font-weight: bold\">&gt;</span><span style=\"color: #000080; text-decoration-color: #000080\"> ───────────────────────────────╮</span>\n",
       "<span style=\"color: #000080; text-decoration-color: #000080\">│</span> <span style=\"color: #008080; text-decoration-color: #008080\">The compute resources running your application logic send data</span>                                                  <span style=\"color: #000080; text-decoration-color: #000080\">│</span>\n",
       "<span style=\"color: #000080; text-decoration-color: #000080\">│</span> <span style=\"color: #008080; text-decoration-color: #008080\">about their work as segments. A segment provides the resource's name,</span>                                           <span style=\"color: #000080; text-decoration-color: #000080\">│</span>\n",
       "<span style=\"color: #000080; text-decoration-color: #000080\">│</span> <span style=\"color: #008080; text-decoration-color: #008080\">details about the request, and details about the work done.</span>                                                     <span style=\"color: #000080; text-decoration-color: #000080\">│</span>\n",
       "<span style=\"color: #000080; text-decoration-color: #000080\">│</span>                                                                                                                 <span style=\"color: #000080; text-decoration-color: #000080\">│</span>\n",
       "<span style=\"color: #000080; text-decoration-color: #000080\">│</span> <span style=\"color: #008000; text-decoration-color: #008000\">╭─────────────────────────────────────────────────────────────────────────────────────────────────────────────╮</span> <span style=\"color: #000080; text-decoration-color: #000080\">│</span>\n",
       "<span style=\"color: #000080; text-decoration-color: #000080\">│</span> <span style=\"color: #008000; text-decoration-color: #008000\">│</span> <span style=\"font-weight: bold\">&lt;</span><span style=\"color: #ff00ff; text-decoration-color: #ff00ff; font-weight: bold\">aws_xray_sdk.core.models.segment.Segment</span><span style=\"color: #000000; text-decoration-color: #000000\"> object at </span><span style=\"color: #008080; text-decoration-color: #008080; font-weight: bold\">0x115264040</span><span style=\"font-weight: bold\">&gt;</span>                                            <span style=\"color: #008000; text-decoration-color: #008000\">│</span> <span style=\"color: #000080; text-decoration-color: #000080\">│</span>\n",
       "<span style=\"color: #000080; text-decoration-color: #000080\">│</span> <span style=\"color: #008000; text-decoration-color: #008000\">╰─────────────────────────────────────────────────────────────────────────────────────────────────────────────╯</span> <span style=\"color: #000080; text-decoration-color: #000080\">│</span>\n",
       "<span style=\"color: #000080; text-decoration-color: #000080\">│</span>                                                                                                                 <span style=\"color: #000080; text-decoration-color: #000080\">│</span>\n",
       "<span style=\"color: #000080; text-decoration-color: #000080\">│</span> <span style=\"color: #808000; text-decoration-color: #808000; font-style: italic\">annotations</span> = <span style=\"font-weight: bold\">{}</span>                                                                                                <span style=\"color: #000080; text-decoration-color: #000080\">│</span>\n",
       "<span style=\"color: #000080; text-decoration-color: #000080\">│</span>         <span style=\"color: #808000; text-decoration-color: #808000; font-style: italic\">aws</span> = <span style=\"font-weight: bold\">{</span><span style=\"color: #008000; text-decoration-color: #008000\">'xray'</span>: <span style=\"font-weight: bold\">{</span><span style=\"color: #008000; text-decoration-color: #008000\">'sdk'</span>: <span style=\"color: #008000; text-decoration-color: #008000\">'X-Ray for Python'</span>, <span style=\"color: #008000; text-decoration-color: #008000\">'sdk_version'</span>: <span style=\"color: #008000; text-decoration-color: #008000\">'2.14.0'</span><span style=\"font-weight: bold\">}}</span>                                    <span style=\"color: #000080; text-decoration-color: #000080\">│</span>\n",
       "<span style=\"color: #000080; text-decoration-color: #000080\">│</span>       <span style=\"color: #808000; text-decoration-color: #808000; font-style: italic\">cause</span> = <span style=\"font-weight: bold\">{</span>                                                                                                 <span style=\"color: #000080; text-decoration-color: #000080\">│</span>\n",
       "<span style=\"color: #000080; text-decoration-color: #000080\">│</span>                   <span style=\"color: #008000; text-decoration-color: #008000\">'exceptions'</span>: <span style=\"font-weight: bold\">[&lt;</span><span style=\"color: #ff00ff; text-decoration-color: #ff00ff; font-weight: bold\">aws_xray_sdk.core.models.throwable.Throwable</span><span style=\"color: #000000; text-decoration-color: #000000\"> object at </span><span style=\"color: #008080; text-decoration-color: #008080; font-weight: bold\">0x115543d30</span><span style=\"font-weight: bold\">&gt;]</span>,         <span style=\"color: #000080; text-decoration-color: #000080\">│</span>\n",
       "<span style=\"color: #000080; text-decoration-color: #000080\">│</span>                   <span style=\"color: #008000; text-decoration-color: #008000\">'working_directory'</span>:                                                                          <span style=\"color: #000080; text-decoration-color: #000080\">│</span>\n",
       "<span style=\"color: #000080; text-decoration-color: #000080\">│</span>               <span style=\"color: #008000; text-decoration-color: #008000\">'/Users/eric/repos/python-aws-course/python-on-aws-course/section-4--observability'</span>               <span style=\"color: #000080; text-decoration-color: #000080\">│</span>\n",
       "<span style=\"color: #000080; text-decoration-color: #000080\">│</span>               <span style=\"font-weight: bold\">}</span>                                                                                                 <span style=\"color: #000080; text-decoration-color: #000080\">│</span>\n",
       "<span style=\"color: #000080; text-decoration-color: #000080\">│</span>       <span style=\"color: #808000; text-decoration-color: #808000; font-style: italic\">fault</span> = <span style=\"color: #00ff00; text-decoration-color: #00ff00; font-style: italic\">True</span>                                                                                              <span style=\"color: #000080; text-decoration-color: #000080\">│</span>\n",
       "<span style=\"color: #000080; text-decoration-color: #000080\">│</span>        <span style=\"color: #808000; text-decoration-color: #808000; font-style: italic\">http</span> = <span style=\"font-weight: bold\">{}</span>                                                                                                <span style=\"color: #000080; text-decoration-color: #000080\">│</span>\n",
       "<span style=\"color: #000080; text-decoration-color: #000080\">│</span>          <span style=\"color: #808000; text-decoration-color: #808000; font-style: italic\">id</span> = <span style=\"color: #008000; text-decoration-color: #008000\">'a546a1082c2f2512'</span>                                                                                <span style=\"color: #000080; text-decoration-color: #000080\">│</span>\n",
       "<span style=\"color: #000080; text-decoration-color: #000080\">│</span> <span style=\"color: #808000; text-decoration-color: #808000; font-style: italic\">in_progress</span> = <span style=\"color: #00ff00; text-decoration-color: #00ff00; font-style: italic\">True</span>                                                                                              <span style=\"color: #000080; text-decoration-color: #000080\">│</span>\n",
       "<span style=\"color: #000080; text-decoration-color: #000080\">│</span>    <span style=\"color: #808000; text-decoration-color: #808000; font-style: italic\">metadata</span> = <span style=\"font-weight: bold\">{}</span>                                                                                                <span style=\"color: #000080; text-decoration-color: #000080\">│</span>\n",
       "<span style=\"color: #000080; text-decoration-color: #000080\">│</span>        <span style=\"color: #808000; text-decoration-color: #808000; font-style: italic\">name</span> = <span style=\"color: #008000; text-decoration-color: #008000\">'my-segment-2'</span>                                                                                    <span style=\"color: #000080; text-decoration-color: #000080\">│</span>\n",
       "<span style=\"color: #000080; text-decoration-color: #000080\">│</span>   <span style=\"color: #808000; text-decoration-color: #808000; font-style: italic\">parent_id</span> = <span style=\"color: #008000; text-decoration-color: #008000\">'3cc83ba34510e017'</span>                                                                                <span style=\"color: #000080; text-decoration-color: #000080\">│</span>\n",
       "<span style=\"color: #000080; text-decoration-color: #000080\">│</span> <span style=\"color: #808000; text-decoration-color: #808000; font-style: italic\">ref_counter</span> = <span style=\"font-weight: bold\">&lt;</span><span style=\"color: #ff00ff; text-decoration-color: #ff00ff; font-weight: bold\">aws_xray_sdk.core.utils.atomic_counter.AtomicCounter</span><span style=\"color: #000000; text-decoration-color: #000000\"> object at </span><span style=\"color: #008080; text-decoration-color: #008080; font-weight: bold\">0x112d90490</span><span style=\"font-weight: bold\">&gt;</span>                      <span style=\"color: #000080; text-decoration-color: #000080\">│</span>\n",
       "<span style=\"color: #000080; text-decoration-color: #000080\">│</span>     <span style=\"color: #808000; text-decoration-color: #808000; font-style: italic\">sampled</span> = <span style=\"color: #00ff00; text-decoration-color: #00ff00; font-style: italic\">True</span>                                                                                              <span style=\"color: #000080; text-decoration-color: #000080\">│</span>\n",
       "<span style=\"color: #000080; text-decoration-color: #000080\">│</span>     <span style=\"color: #808000; text-decoration-color: #808000; font-style: italic\">service</span> = <span style=\"font-weight: bold\">{</span><span style=\"color: #008000; text-decoration-color: #008000\">'runtime'</span>: <span style=\"color: #008000; text-decoration-color: #008000\">'CPython'</span>, <span style=\"color: #008000; text-decoration-color: #008000\">'runtime_version'</span>: <span style=\"color: #008000; text-decoration-color: #008000\">'3.9.6'</span><span style=\"font-weight: bold\">}</span>                                                <span style=\"color: #000080; text-decoration-color: #000080\">│</span>\n",
       "<span style=\"color: #000080; text-decoration-color: #000080\">│</span>  <span style=\"color: #808000; text-decoration-color: #808000; font-style: italic\">start_time</span> = <span style=\"color: #008080; text-decoration-color: #008080; font-weight: bold\">1722358237.038078</span>                                                                                 <span style=\"color: #000080; text-decoration-color: #000080\">│</span>\n",
       "<span style=\"color: #000080; text-decoration-color: #000080\">│</span> <span style=\"color: #808000; text-decoration-color: #808000; font-style: italic\">subsegments</span> = <span style=\"font-weight: bold\">[]</span>                                                                                                <span style=\"color: #000080; text-decoration-color: #000080\">│</span>\n",
       "<span style=\"color: #000080; text-decoration-color: #000080\">│</span>    <span style=\"color: #808000; text-decoration-color: #808000; font-style: italic\">trace_id</span> = <span style=\"color: #008000; text-decoration-color: #008000\">'1-66a919dd-ad4408e53518bba71e97fa53'</span>                                                             <span style=\"color: #000080; text-decoration-color: #000080\">│</span>\n",
       "<span style=\"color: #000080; text-decoration-color: #000080\">│</span>        <span style=\"color: #808000; text-decoration-color: #808000; font-style: italic\">user</span> = <span style=\"color: #800080; text-decoration-color: #800080; font-style: italic\">None</span>                                                                                              <span style=\"color: #000080; text-decoration-color: #000080\">│</span>\n",
       "<span style=\"color: #000080; text-decoration-color: #000080\">╰─────────────────────────────────────────────────────────────────────────────────────────────────────────────────╯</span>\n",
       "</pre>\n"
      ],
      "text/plain": [
       "\u001b[34m╭─\u001b[0m\u001b[34m─────────────────────────────\u001b[0m\u001b[34m \u001b[0m\u001b[1;34m<\u001b[0m\u001b[1;95mclass\u001b[0m\u001b[39m \u001b[0m\u001b[32m'aws_xray_sdk.core.models.segment.Segment'\u001b[0m\u001b[1;34m>\u001b[0m\u001b[34m \u001b[0m\u001b[34m──────────────────────────────\u001b[0m\u001b[34m─╮\u001b[0m\n",
       "\u001b[34m│\u001b[0m \u001b[36mThe compute resources running your application logic send data\u001b[0m                                                  \u001b[34m│\u001b[0m\n",
       "\u001b[34m│\u001b[0m \u001b[36mabout their work as segments. A segment provides the resource's name,\u001b[0m                                           \u001b[34m│\u001b[0m\n",
       "\u001b[34m│\u001b[0m \u001b[36mdetails about the request, and details about the work done.\u001b[0m                                                     \u001b[34m│\u001b[0m\n",
       "\u001b[34m│\u001b[0m                                                                                                                 \u001b[34m│\u001b[0m\n",
       "\u001b[34m│\u001b[0m \u001b[32m╭─────────────────────────────────────────────────────────────────────────────────────────────────────────────╮\u001b[0m \u001b[34m│\u001b[0m\n",
       "\u001b[34m│\u001b[0m \u001b[32m│\u001b[0m \u001b[1m<\u001b[0m\u001b[1;95maws_xray_sdk.core.models.segment.Segment\u001b[0m\u001b[39m object at \u001b[0m\u001b[1;36m0x115264040\u001b[0m\u001b[1m>\u001b[0m                                            \u001b[32m│\u001b[0m \u001b[34m│\u001b[0m\n",
       "\u001b[34m│\u001b[0m \u001b[32m╰─────────────────────────────────────────────────────────────────────────────────────────────────────────────╯\u001b[0m \u001b[34m│\u001b[0m\n",
       "\u001b[34m│\u001b[0m                                                                                                                 \u001b[34m│\u001b[0m\n",
       "\u001b[34m│\u001b[0m \u001b[3;33mannotations\u001b[0m = \u001b[1m{\u001b[0m\u001b[1m}\u001b[0m                                                                                                \u001b[34m│\u001b[0m\n",
       "\u001b[34m│\u001b[0m         \u001b[3;33maws\u001b[0m = \u001b[1m{\u001b[0m\u001b[32m'xray'\u001b[0m: \u001b[1m{\u001b[0m\u001b[32m'sdk'\u001b[0m: \u001b[32m'X-Ray for Python'\u001b[0m, \u001b[32m'sdk_version'\u001b[0m: \u001b[32m'2.14.0'\u001b[0m\u001b[1m}\u001b[0m\u001b[1m}\u001b[0m                                    \u001b[34m│\u001b[0m\n",
       "\u001b[34m│\u001b[0m       \u001b[3;33mcause\u001b[0m = \u001b[1m{\u001b[0m                                                                                                 \u001b[34m│\u001b[0m\n",
       "\u001b[34m│\u001b[0m                   \u001b[32m'exceptions'\u001b[0m: \u001b[1m[\u001b[0m\u001b[1m<\u001b[0m\u001b[1;95maws_xray_sdk.core.models.throwable.Throwable\u001b[0m\u001b[39m object at \u001b[0m\u001b[1;36m0x115543d30\u001b[0m\u001b[1m>\u001b[0m\u001b[1m]\u001b[0m,         \u001b[34m│\u001b[0m\n",
       "\u001b[34m│\u001b[0m                   \u001b[32m'working_directory'\u001b[0m:                                                                          \u001b[34m│\u001b[0m\n",
       "\u001b[34m│\u001b[0m               \u001b[32m'/Users/eric/repos/python-aws-course/python-on-aws-course/section-4--observability'\u001b[0m               \u001b[34m│\u001b[0m\n",
       "\u001b[34m│\u001b[0m               \u001b[1m}\u001b[0m                                                                                                 \u001b[34m│\u001b[0m\n",
       "\u001b[34m│\u001b[0m       \u001b[3;33mfault\u001b[0m = \u001b[3;92mTrue\u001b[0m                                                                                              \u001b[34m│\u001b[0m\n",
       "\u001b[34m│\u001b[0m        \u001b[3;33mhttp\u001b[0m = \u001b[1m{\u001b[0m\u001b[1m}\u001b[0m                                                                                                \u001b[34m│\u001b[0m\n",
       "\u001b[34m│\u001b[0m          \u001b[3;33mid\u001b[0m = \u001b[32m'a546a1082c2f2512'\u001b[0m                                                                                \u001b[34m│\u001b[0m\n",
       "\u001b[34m│\u001b[0m \u001b[3;33min_progress\u001b[0m = \u001b[3;92mTrue\u001b[0m                                                                                              \u001b[34m│\u001b[0m\n",
       "\u001b[34m│\u001b[0m    \u001b[3;33mmetadata\u001b[0m = \u001b[1m{\u001b[0m\u001b[1m}\u001b[0m                                                                                                \u001b[34m│\u001b[0m\n",
       "\u001b[34m│\u001b[0m        \u001b[3;33mname\u001b[0m = \u001b[32m'my-segment-2'\u001b[0m                                                                                    \u001b[34m│\u001b[0m\n",
       "\u001b[34m│\u001b[0m   \u001b[3;33mparent_id\u001b[0m = \u001b[32m'3cc83ba34510e017'\u001b[0m                                                                                \u001b[34m│\u001b[0m\n",
       "\u001b[34m│\u001b[0m \u001b[3;33mref_counter\u001b[0m = \u001b[1m<\u001b[0m\u001b[1;95maws_xray_sdk.core.utils.atomic_counter.AtomicCounter\u001b[0m\u001b[39m object at \u001b[0m\u001b[1;36m0x112d90490\u001b[0m\u001b[1m>\u001b[0m                      \u001b[34m│\u001b[0m\n",
       "\u001b[34m│\u001b[0m     \u001b[3;33msampled\u001b[0m = \u001b[3;92mTrue\u001b[0m                                                                                              \u001b[34m│\u001b[0m\n",
       "\u001b[34m│\u001b[0m     \u001b[3;33mservice\u001b[0m = \u001b[1m{\u001b[0m\u001b[32m'runtime'\u001b[0m: \u001b[32m'CPython'\u001b[0m, \u001b[32m'runtime_version'\u001b[0m: \u001b[32m'3.9.6'\u001b[0m\u001b[1m}\u001b[0m                                                \u001b[34m│\u001b[0m\n",
       "\u001b[34m│\u001b[0m  \u001b[3;33mstart_time\u001b[0m = \u001b[1;36m1722358237.038078\u001b[0m                                                                                 \u001b[34m│\u001b[0m\n",
       "\u001b[34m│\u001b[0m \u001b[3;33msubsegments\u001b[0m = \u001b[1m[\u001b[0m\u001b[1m]\u001b[0m                                                                                                \u001b[34m│\u001b[0m\n",
       "\u001b[34m│\u001b[0m    \u001b[3;33mtrace_id\u001b[0m = \u001b[32m'1-66a919dd-ad4408e53518bba71e97fa53'\u001b[0m                                                             \u001b[34m│\u001b[0m\n",
       "\u001b[34m│\u001b[0m        \u001b[3;33muser\u001b[0m = \u001b[3;35mNone\u001b[0m                                                                                              \u001b[34m│\u001b[0m\n",
       "\u001b[34m╰─────────────────────────────────────────────────────────────────────────────────────────────────────────────────╯\u001b[0m\n"
      ]
     },
     "metadata": {},
     "output_type": "display_data"
    }
   ],
   "source": [
    "inspect(segment_2)"
   ]
  },
  {
   "cell_type": "code",
   "execution_count": 16,
   "metadata": {},
   "outputs": [
    {
     "data": {
      "text/html": [
       "<pre style=\"white-space:pre;overflow-x:auto;line-height:normal;font-family:Menlo,'DejaVu Sans Mono',consolas,'Courier New',monospace\"><span style=\"color: #000080; text-decoration-color: #000080\">╭──────────────────── </span><span style=\"color: #000080; text-decoration-color: #000080; font-weight: bold\">&lt;</span><span style=\"color: #ff00ff; text-decoration-color: #ff00ff; font-weight: bold\">class</span><span style=\"color: #000000; text-decoration-color: #000000\"> </span><span style=\"color: #008000; text-decoration-color: #008000\">'aws_xray_sdk.core.models.segment.Segment'</span><span style=\"color: #000080; text-decoration-color: #000080; font-weight: bold\">&gt;</span><span style=\"color: #000080; text-decoration-color: #000080\"> ────────────────────╮</span>\n",
       "<span style=\"color: #000080; text-decoration-color: #000080\">│</span> <span style=\"color: #008080; text-decoration-color: #008080\">The compute resources running your application logic send data</span>                             <span style=\"color: #000080; text-decoration-color: #000080\">│</span>\n",
       "<span style=\"color: #000080; text-decoration-color: #000080\">│</span> <span style=\"color: #008080; text-decoration-color: #008080\">about their work as segments. A segment provides the resource's name,</span>                      <span style=\"color: #000080; text-decoration-color: #000080\">│</span>\n",
       "<span style=\"color: #000080; text-decoration-color: #000080\">│</span> <span style=\"color: #008080; text-decoration-color: #008080\">details about the request, and details about the work done.</span>                                <span style=\"color: #000080; text-decoration-color: #000080\">│</span>\n",
       "<span style=\"color: #000080; text-decoration-color: #000080\">│</span>                                                                                            <span style=\"color: #000080; text-decoration-color: #000080\">│</span>\n",
       "<span style=\"color: #000080; text-decoration-color: #000080\">│</span> <span style=\"color: #008000; text-decoration-color: #008000\">╭────────────────────────────────────────────────────────────────────────────────────────╮</span> <span style=\"color: #000080; text-decoration-color: #000080\">│</span>\n",
       "<span style=\"color: #000080; text-decoration-color: #000080\">│</span> <span style=\"color: #008000; text-decoration-color: #008000\">│</span> <span style=\"font-weight: bold\">&lt;</span><span style=\"color: #ff00ff; text-decoration-color: #ff00ff; font-weight: bold\">aws_xray_sdk.core.models.segment.Segment</span><span style=\"color: #000000; text-decoration-color: #000000\"> object at </span><span style=\"color: #008080; text-decoration-color: #008080; font-weight: bold\">0x112e63970</span><span style=\"font-weight: bold\">&gt;</span>                       <span style=\"color: #008000; text-decoration-color: #008000\">│</span> <span style=\"color: #000080; text-decoration-color: #000080\">│</span>\n",
       "<span style=\"color: #000080; text-decoration-color: #000080\">│</span> <span style=\"color: #008000; text-decoration-color: #008000\">╰────────────────────────────────────────────────────────────────────────────────────────╯</span> <span style=\"color: #000080; text-decoration-color: #000080\">│</span>\n",
       "<span style=\"color: #000080; text-decoration-color: #000080\">│</span>                                                                                            <span style=\"color: #000080; text-decoration-color: #000080\">│</span>\n",
       "<span style=\"color: #000080; text-decoration-color: #000080\">│</span> <span style=\"color: #808000; text-decoration-color: #808000; font-style: italic\">annotations</span> = <span style=\"font-weight: bold\">{}</span>                                                                           <span style=\"color: #000080; text-decoration-color: #000080\">│</span>\n",
       "<span style=\"color: #000080; text-decoration-color: #000080\">│</span>         <span style=\"color: #808000; text-decoration-color: #808000; font-style: italic\">aws</span> = <span style=\"font-weight: bold\">{</span><span style=\"color: #008000; text-decoration-color: #008000\">'xray'</span>: <span style=\"font-weight: bold\">{</span><span style=\"color: #008000; text-decoration-color: #008000\">'sdk'</span>: <span style=\"color: #008000; text-decoration-color: #008000\">'X-Ray for Python'</span>, <span style=\"color: #008000; text-decoration-color: #008000\">'sdk_version'</span>: <span style=\"color: #008000; text-decoration-color: #008000\">'2.14.0'</span><span style=\"font-weight: bold\">}}</span>               <span style=\"color: #000080; text-decoration-color: #000080\">│</span>\n",
       "<span style=\"color: #000080; text-decoration-color: #000080\">│</span>       <span style=\"color: #808000; text-decoration-color: #808000; font-style: italic\">cause</span> = <span style=\"font-weight: bold\">{}</span>                                                                           <span style=\"color: #000080; text-decoration-color: #000080\">│</span>\n",
       "<span style=\"color: #000080; text-decoration-color: #000080\">│</span>        <span style=\"color: #808000; text-decoration-color: #808000; font-style: italic\">http</span> = <span style=\"font-weight: bold\">{}</span>                                                                           <span style=\"color: #000080; text-decoration-color: #000080\">│</span>\n",
       "<span style=\"color: #000080; text-decoration-color: #000080\">│</span>          <span style=\"color: #808000; text-decoration-color: #808000; font-style: italic\">id</span> = <span style=\"color: #008000; text-decoration-color: #008000\">'5d590d33f066a974'</span>                                                           <span style=\"color: #000080; text-decoration-color: #000080\">│</span>\n",
       "<span style=\"color: #000080; text-decoration-color: #000080\">│</span> <span style=\"color: #808000; text-decoration-color: #808000; font-style: italic\">in_progress</span> = <span style=\"color: #00ff00; text-decoration-color: #00ff00; font-style: italic\">True</span>                                                                         <span style=\"color: #000080; text-decoration-color: #000080\">│</span>\n",
       "<span style=\"color: #000080; text-decoration-color: #000080\">│</span>    <span style=\"color: #808000; text-decoration-color: #808000; font-style: italic\">metadata</span> = <span style=\"font-weight: bold\">{}</span>                                                                           <span style=\"color: #000080; text-decoration-color: #000080\">│</span>\n",
       "<span style=\"color: #000080; text-decoration-color: #000080\">│</span>        <span style=\"color: #808000; text-decoration-color: #808000; font-style: italic\">name</span> = <span style=\"color: #008000; text-decoration-color: #008000\">'my-segment-2'</span>                                                               <span style=\"color: #000080; text-decoration-color: #000080\">│</span>\n",
       "<span style=\"color: #000080; text-decoration-color: #000080\">│</span>   <span style=\"color: #808000; text-decoration-color: #808000; font-style: italic\">parent_id</span> = <span style=\"color: #008000; text-decoration-color: #008000\">'646b5d01d49c2567'</span>                                                           <span style=\"color: #000080; text-decoration-color: #000080\">│</span>\n",
       "<span style=\"color: #000080; text-decoration-color: #000080\">│</span> <span style=\"color: #808000; text-decoration-color: #808000; font-style: italic\">ref_counter</span> = <span style=\"font-weight: bold\">&lt;</span><span style=\"color: #ff00ff; text-decoration-color: #ff00ff; font-weight: bold\">aws_xray_sdk.core.utils.atomic_counter.AtomicCounter</span><span style=\"color: #000000; text-decoration-color: #000000\"> object at </span><span style=\"color: #008080; text-decoration-color: #008080; font-weight: bold\">0x112e63d00</span><span style=\"font-weight: bold\">&gt;</span> <span style=\"color: #000080; text-decoration-color: #000080\">│</span>\n",
       "<span style=\"color: #000080; text-decoration-color: #000080\">│</span>     <span style=\"color: #808000; text-decoration-color: #808000; font-style: italic\">sampled</span> = <span style=\"color: #00ff00; text-decoration-color: #00ff00; font-style: italic\">True</span>                                                                         <span style=\"color: #000080; text-decoration-color: #000080\">│</span>\n",
       "<span style=\"color: #000080; text-decoration-color: #000080\">│</span>     <span style=\"color: #808000; text-decoration-color: #808000; font-style: italic\">service</span> = <span style=\"font-weight: bold\">{</span><span style=\"color: #008000; text-decoration-color: #008000\">'runtime'</span>: <span style=\"color: #008000; text-decoration-color: #008000\">'CPython'</span>, <span style=\"color: #008000; text-decoration-color: #008000\">'runtime_version'</span>: <span style=\"color: #008000; text-decoration-color: #008000\">'3.9.6'</span><span style=\"font-weight: bold\">}</span>                           <span style=\"color: #000080; text-decoration-color: #000080\">│</span>\n",
       "<span style=\"color: #000080; text-decoration-color: #000080\">│</span>  <span style=\"color: #808000; text-decoration-color: #808000; font-style: italic\">start_time</span> = <span style=\"color: #008080; text-decoration-color: #008080; font-weight: bold\">1722356534.072304</span>                                                            <span style=\"color: #000080; text-decoration-color: #000080\">│</span>\n",
       "<span style=\"color: #000080; text-decoration-color: #000080\">│</span> <span style=\"color: #808000; text-decoration-color: #808000; font-style: italic\">subsegments</span> = <span style=\"font-weight: bold\">[]</span>                                                                           <span style=\"color: #000080; text-decoration-color: #000080\">│</span>\n",
       "<span style=\"color: #000080; text-decoration-color: #000080\">│</span>    <span style=\"color: #808000; text-decoration-color: #808000; font-style: italic\">trace_id</span> = <span style=\"color: #008000; text-decoration-color: #008000\">'1-66a91336-e250a888c428bbc1b8dc27df'</span>                                        <span style=\"color: #000080; text-decoration-color: #000080\">│</span>\n",
       "<span style=\"color: #000080; text-decoration-color: #000080\">│</span>        <span style=\"color: #808000; text-decoration-color: #808000; font-style: italic\">user</span> = <span style=\"color: #800080; text-decoration-color: #800080; font-style: italic\">None</span>                                                                         <span style=\"color: #000080; text-decoration-color: #000080\">│</span>\n",
       "<span style=\"color: #000080; text-decoration-color: #000080\">╰────────────────────────────────────────────────────────────────────────────────────────────╯</span>\n",
       "</pre>\n"
      ],
      "text/plain": [
       "\u001b[34m╭─\u001b[0m\u001b[34m───────────────────\u001b[0m\u001b[34m \u001b[0m\u001b[1;34m<\u001b[0m\u001b[1;95mclass\u001b[0m\u001b[39m \u001b[0m\u001b[32m'aws_xray_sdk.core.models.segment.Segment'\u001b[0m\u001b[1;34m>\u001b[0m\u001b[34m \u001b[0m\u001b[34m───────────────────\u001b[0m\u001b[34m─╮\u001b[0m\n",
       "\u001b[34m│\u001b[0m \u001b[36mThe compute resources running your application logic send data\u001b[0m                             \u001b[34m│\u001b[0m\n",
       "\u001b[34m│\u001b[0m \u001b[36mabout their work as segments. A segment provides the resource's name,\u001b[0m                      \u001b[34m│\u001b[0m\n",
       "\u001b[34m│\u001b[0m \u001b[36mdetails about the request, and details about the work done.\u001b[0m                                \u001b[34m│\u001b[0m\n",
       "\u001b[34m│\u001b[0m                                                                                            \u001b[34m│\u001b[0m\n",
       "\u001b[34m│\u001b[0m \u001b[32m╭────────────────────────────────────────────────────────────────────────────────────────╮\u001b[0m \u001b[34m│\u001b[0m\n",
       "\u001b[34m│\u001b[0m \u001b[32m│\u001b[0m \u001b[1m<\u001b[0m\u001b[1;95maws_xray_sdk.core.models.segment.Segment\u001b[0m\u001b[39m object at \u001b[0m\u001b[1;36m0x112e63970\u001b[0m\u001b[1m>\u001b[0m                       \u001b[32m│\u001b[0m \u001b[34m│\u001b[0m\n",
       "\u001b[34m│\u001b[0m \u001b[32m╰────────────────────────────────────────────────────────────────────────────────────────╯\u001b[0m \u001b[34m│\u001b[0m\n",
       "\u001b[34m│\u001b[0m                                                                                            \u001b[34m│\u001b[0m\n",
       "\u001b[34m│\u001b[0m \u001b[3;33mannotations\u001b[0m = \u001b[1m{\u001b[0m\u001b[1m}\u001b[0m                                                                           \u001b[34m│\u001b[0m\n",
       "\u001b[34m│\u001b[0m         \u001b[3;33maws\u001b[0m = \u001b[1m{\u001b[0m\u001b[32m'xray'\u001b[0m: \u001b[1m{\u001b[0m\u001b[32m'sdk'\u001b[0m: \u001b[32m'X-Ray for Python'\u001b[0m, \u001b[32m'sdk_version'\u001b[0m: \u001b[32m'2.14.0'\u001b[0m\u001b[1m}\u001b[0m\u001b[1m}\u001b[0m               \u001b[34m│\u001b[0m\n",
       "\u001b[34m│\u001b[0m       \u001b[3;33mcause\u001b[0m = \u001b[1m{\u001b[0m\u001b[1m}\u001b[0m                                                                           \u001b[34m│\u001b[0m\n",
       "\u001b[34m│\u001b[0m        \u001b[3;33mhttp\u001b[0m = \u001b[1m{\u001b[0m\u001b[1m}\u001b[0m                                                                           \u001b[34m│\u001b[0m\n",
       "\u001b[34m│\u001b[0m          \u001b[3;33mid\u001b[0m = \u001b[32m'5d590d33f066a974'\u001b[0m                                                           \u001b[34m│\u001b[0m\n",
       "\u001b[34m│\u001b[0m \u001b[3;33min_progress\u001b[0m = \u001b[3;92mTrue\u001b[0m                                                                         \u001b[34m│\u001b[0m\n",
       "\u001b[34m│\u001b[0m    \u001b[3;33mmetadata\u001b[0m = \u001b[1m{\u001b[0m\u001b[1m}\u001b[0m                                                                           \u001b[34m│\u001b[0m\n",
       "\u001b[34m│\u001b[0m        \u001b[3;33mname\u001b[0m = \u001b[32m'my-segment-2'\u001b[0m                                                               \u001b[34m│\u001b[0m\n",
       "\u001b[34m│\u001b[0m   \u001b[3;33mparent_id\u001b[0m = \u001b[32m'646b5d01d49c2567'\u001b[0m                                                           \u001b[34m│\u001b[0m\n",
       "\u001b[34m│\u001b[0m \u001b[3;33mref_counter\u001b[0m = \u001b[1m<\u001b[0m\u001b[1;95maws_xray_sdk.core.utils.atomic_counter.AtomicCounter\u001b[0m\u001b[39m object at \u001b[0m\u001b[1;36m0x112e63d00\u001b[0m\u001b[1m>\u001b[0m \u001b[34m│\u001b[0m\n",
       "\u001b[34m│\u001b[0m     \u001b[3;33msampled\u001b[0m = \u001b[3;92mTrue\u001b[0m                                                                         \u001b[34m│\u001b[0m\n",
       "\u001b[34m│\u001b[0m     \u001b[3;33mservice\u001b[0m = \u001b[1m{\u001b[0m\u001b[32m'runtime'\u001b[0m: \u001b[32m'CPython'\u001b[0m, \u001b[32m'runtime_version'\u001b[0m: \u001b[32m'3.9.6'\u001b[0m\u001b[1m}\u001b[0m                           \u001b[34m│\u001b[0m\n",
       "\u001b[34m│\u001b[0m  \u001b[3;33mstart_time\u001b[0m = \u001b[1;36m1722356534.072304\u001b[0m                                                            \u001b[34m│\u001b[0m\n",
       "\u001b[34m│\u001b[0m \u001b[3;33msubsegments\u001b[0m = \u001b[1m[\u001b[0m\u001b[1m]\u001b[0m                                                                           \u001b[34m│\u001b[0m\n",
       "\u001b[34m│\u001b[0m    \u001b[3;33mtrace_id\u001b[0m = \u001b[32m'1-66a91336-e250a888c428bbc1b8dc27df'\u001b[0m                                        \u001b[34m│\u001b[0m\n",
       "\u001b[34m│\u001b[0m        \u001b[3;33muser\u001b[0m = \u001b[3;35mNone\u001b[0m                                                                         \u001b[34m│\u001b[0m\n",
       "\u001b[34m╰────────────────────────────────────────────────────────────────────────────────────────────╯\u001b[0m\n"
      ]
     },
     "metadata": {},
     "output_type": "display_data"
    }
   ],
   "source": [
    "inspect(xray_recorder.get_trace_entity())"
   ]
  },
  {
   "cell_type": "code",
   "execution_count": null,
   "metadata": {},
   "outputs": [],
   "source": []
  }
 ],
 "metadata": {
  "kernelspec": {
   "display_name": "venv",
   "language": "python",
   "name": "python3"
  },
  "language_info": {
   "codemirror_mode": {
    "name": "ipython",
    "version": 3
   },
   "file_extension": ".py",
   "mimetype": "text/x-python",
   "name": "python",
   "nbconvert_exporter": "python",
   "pygments_lexer": "ipython3",
   "version": "3.9.6"
  }
 },
 "nbformat": 4,
 "nbformat_minor": 2
}
