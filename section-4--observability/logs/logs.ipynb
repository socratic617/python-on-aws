{
   "cells": [
      {
         "cell_type": "markdown",
         "metadata": {},
         "source": [
            "# Logging\n",
            "\n",
            "\n",
            "*Setting up logging can be hard, but in this notebook we will go through different tools and libraries that can help you set up logging in your application.*"
         ]
      },
      {
         "cell_type": "markdown",
         "metadata": {},
         "source": [
            "### What is logging?\n",
            "\n",
            "- Logging is a means of tracking \"events\" when your application runs. \n",
            "\n",
            "- An *event* can be anything of interest that happens during the execution of your program like \n",
            "  - an occurance of an error, \n",
            "  - a simple infomatational message, \n",
            "  - announcing that your program started, or you API call was successful etc.\n",
            "\n",
            "- Events are logged with a descriptive message which optionally can have associated metadata about the state of your application.\n",
            "\n",
            "- Application developers can assign log events a level of importance; the importance can also be called the **level or severity**.\n",
            "\n",
            "\n",
            "### When to use logging?\n",
            "\n",
            "| Task you want to perform                                                                 | The best tool for the task                                                                                         |\n",
            "|------------------------------------------------------------------------------------------|--------------------------------------------------------------------------------------------------------------------|\n",
            "| Display console output for ordinary usage of a command line script or program            | `print()`                                                                                                          |\n",
            "| Report events that occur during normal operation of a program (e.g. for status monitoring or fault investigation) | A logger’s `info()` (or `debug()` method for very detailed output for diagnostic purposes)                          |\n",
            "| Issue a warning regarding a particular runtime event                                     | `warnings.warn()` in library code if the issue is avoidable and the client application should be modified to eliminate the warning<br>A logger’s `warning()` method, if there is nothing the client application can do about the situation, but the event should still be noted |\n",
            "| Report an error regarding a particular runtime event                                     | Raise an exception                                                                                                 |\n",
            "| Report suppression of an error without raising an exception (e.g. error handler in a long-running server process) | A logger’s `error()`, `exception()`, or `critical()` method as appropriate for the specific error and application domain |\n",
            "\n",
            "\n",
            "### Logging Levels\n",
            "\n",
            "The logger methods are named after the *level or severity* of the events they are used to track. The standard levels (in increasing order of severity) are: `DEBUG`, `INFO`, `WARNING`, `ERROR`, and `CRITICAL`. \n",
            "\n",
            "You can read more about them [*here*](https://docs.python.org/3/library/logging.html#logging-levels).\n",
            "\n",
            "\n",
            "<p align=\"right\"><i>Source: <a href=\"https://docs.python.org/3/howto/logging.html\">Python Logging Docs</a></i></p>"
         ]
      },
      {
         "cell_type": "code",
         "execution_count": 2,
         "metadata": {},
         "outputs": [
            {
               "name": "stdout",
               "output_type": "stream",
               "text": [
                  "\n",
                  "\u001b[1m[\u001b[0m\u001b[34;49mnotice\u001b[0m\u001b[1;39;49m]\u001b[0m\u001b[39;49m A new release of pip is available: \u001b[0m\u001b[31;49m24.0\u001b[0m\u001b[39;49m -> \u001b[0m\u001b[32;49m24.2\u001b[0m\n",
                  "\u001b[1m[\u001b[0m\u001b[34;49mnotice\u001b[0m\u001b[1;39;49m]\u001b[0m\u001b[39;49m To update, run: \u001b[0m\u001b[32;49mpip install --upgrade pip\u001b[0m\n",
                  "Note: you may need to restart the kernel to use updated packages.\n"
               ]
            }
         ],
         "source": [
            "# Install the logging libraries\n",
            "\n",
            "%pip install -q loguru aws-lambda-powertools matplotlib bokeh"
         ]
      },
      {
         "cell_type": "markdown",
         "metadata": {},
         "source": [
            "# TODO\n",
            "\n",
            "- [x] How to toggle the verbosity of traceback in loguru?\n",
            "- [x] Ideally show the both ways\n",
            "\n",
            "- [ ] Log Perf. Analysis: Time analysis"
         ]
      },
      {
         "cell_type": "markdown",
         "metadata": {},
         "source": [
            "## Python's `logging` module"
         ]
      },
      {
         "cell_type": "code",
         "execution_count": 33,
         "metadata": {},
         "outputs": [
            {
               "name": "stdout",
               "output_type": "stream",
               "text": [
                  "2024-08-20 12:53:22,208 | INFO | __main__:26:<module> | This is an info message\n",
                  "2024-08-20 12:53:22,209 | WARNING | __main__:27:<module> | This is a warning message\n",
                  "2024-08-20 12:53:22,209 | ERROR | __main__:28:<module> | This is an error message\n",
                  "2024-08-20 12:53:22,210 | CRITICAL | __main__:29:<module> | This is a critical message\n"
               ]
            }
         ],
         "source": [
            "# Setup logging in the simplest way possible\n",
            "\n",
            "import os\n",
            "import sys\n",
            "import logging\n",
            "\n",
            "\n",
            "# get log level from environment variable\n",
            "LOG_LEVEL = os.environ.get(\"LOG_LEVEL\", \"INFO\").upper()\n",
            "\n",
            "# configure logger object with the desired log level and format\n",
            "logging.basicConfig(\n",
            "    format=\"{asctime} | {levelname} | {name}:{lineno}:{funcName} | {message}\",\n",
            "    style=\"{\",  # uses {} as placeholders\n",
            "    level=LOG_LEVEL,\n",
            "    stream=sys.stdout,  # where to write the log messages, in this case stdout or console\n",
            ")\n",
            "\n",
            "# create logger object with the name of the current module/file to start logging\n",
            "logger = logging.getLogger(__name__)\n",
            "\n",
            "# logger = logging.getLogger(\"my_logger_instance\")  # you can also use a custom name\n",
            "\n",
            "# log some messages\n",
            "logger.debug(\"This is a debug message\")  # this will not be printed because the log level is set to INFO\n",
            "logger.info(\"This is an info message\")\n",
            "logger.warning(\"This is a warning message\")\n",
            "logger.error(\"This is an error message\")\n",
            "logger.critical(\"This is a critical message\")\n",
            "# logger.exception(\"This is an exception message\")"
         ]
      },
      {
         "cell_type": "markdown",
         "metadata": {},
         "source": [
            "^^^ Note that no `DEBUG` statement was emitted because the log level is set to `INFO`, which mutes all log statements of severity `DEBUG` or lower. In general, setting the log level supresses log events of lower severity.\n",
            "\n",
            "---\n",
            "\n",
            "The logging library takes a modular approach and offers several categories of components: *loggers, handlers, filters, and formatters*.\n",
            "\n",
            "<img src=\"../../assets/logging.png\" width=\"900px\" />\n",
            "\n",
            "- [***Loggers***](https://docs.python.org/3/howto/logging.html#loggers) used in code to generate log events, e.g. `logger` and `logger.info(...)`.\n",
            "- [***Handlers***](https://docs.python.org/3/howto/logging.html#handlers) send the log records (created by loggers) to the appropriate destination. E.g. a handler that writes log events to a file or `stdout`.\n",
            "- [***Filters***](https://docs.python.org/3/library/logging.html#filter-objects) provide a finer-grained facility for determining which log records to output. E.g. remove log statements that have Personally Identifiable Information (PII) like email addresses.\n",
            "- [***Formatters***](https://docs.python.org/3/library/logging.html#logrecord-attributes) specify the layout of log records in the final output. E.g. formatting log events as JSON.\n",
            "\n",
            "\n",
            "Log event information is passed between *loggers, handlers, filters and formatters* in a LogRecord instance.Logging is performed by calling methods on instances of the Logger class. You can read more on it [*here*](https://docs.python.org/3/howto/logging.html#advanced-logging-tutorial) and [*here*](https://docs.python.org/3/library/logging.html).\n",
            "\n",
            "\n",
            "\n",
            "<p align=\"right\"><i>Source: <a href=\"https://docs.python.org/3/howto/logging.html#advanced-logging-tutorial\">Advanced Python Logging Docs</a></i></p>\n",
            "\n",
            "\n",
            "## Deep dive into the Python logging module\n",
            "<iframe width=\"560\" height=\"315\" src=\"https://www.youtube.com/embed/9L77QExPmI0?si=d1Uk9un95D-PWicy\" title=\"YouTube video player\" frameborder=\"0\" allow=\"accelerometer; autoplay; clipboard-write; encrypted-media; gyroscope; picture-in-picture; web-share\" referrerpolicy=\"strict-origin-when-cross-origin\" allowfullscreen></iframe>"
         ]
      },
      {
         "cell_type": "code",
         "execution_count": 34,
         "metadata": {},
         "outputs": [
            {
               "name": "stderr",
               "output_type": "stream",
               "text": [
                  "2024-08-20 12:53:22,215 | INFO | __main__:31:<module> | This is an info message\n"
               ]
            },
            {
               "name": "stdout",
               "output_type": "stream",
               "text": [
                  "2024-08-20 12:53:22,215 | INFO | __main__:31:<module> | This is an info message\n"
               ]
            },
            {
               "name": "stderr",
               "output_type": "stream",
               "text": [
                  "2024-08-20 12:53:22,216 | WARNING | __main__:32:<module> | This is a warning message\n"
               ]
            },
            {
               "name": "stdout",
               "output_type": "stream",
               "text": [
                  "2024-08-20 12:53:22,216 | WARNING | __main__:32:<module> | This is a warning message\n"
               ]
            },
            {
               "name": "stderr",
               "output_type": "stream",
               "text": [
                  "2024-08-20 12:53:22,216 | ERROR | __main__:33:<module> | This is an error message\n"
               ]
            },
            {
               "name": "stdout",
               "output_type": "stream",
               "text": [
                  "2024-08-20 12:53:22,216 | ERROR | __main__:33:<module> | This is an error message\n"
               ]
            },
            {
               "name": "stderr",
               "output_type": "stream",
               "text": [
                  "2024-08-20 12:53:22,217 | CRITICAL | __main__:34:<module> | This is a critical message\n"
               ]
            },
            {
               "name": "stdout",
               "output_type": "stream",
               "text": [
                  "2024-08-20 12:53:22,217 | CRITICAL | __main__:34:<module> | This is a critical message\n"
               ]
            },
            {
               "name": "stderr",
               "output_type": "stream",
               "text": [
                  "2024-08-20 12:53:22,218 | ERROR | __main__:40:<module> | Exception details without traceback: division by zero\n"
               ]
            },
            {
               "name": "stdout",
               "output_type": "stream",
               "text": [
                  "2024-08-20 12:53:22,218 | ERROR | __main__:40:<module> | Exception details without traceback: division by zero\n"
               ]
            },
            {
               "name": "stderr",
               "output_type": "stream",
               "text": [
                  "2024-08-20 12:53:22,219 | ERROR | __main__:43:<module> | Exception details with traceback: division by zero\n",
                  "Traceback (most recent call last):\n",
                  "  File \"/var/folders/f3/pxd2mkvj6cvgxr_d9f2brs7w0000gn/T/ipykernel_37754/347257970.py\", line 38, in <module>\n",
                  "    1 / 0\n",
                  "    ~~^~~\n",
                  "ZeroDivisionError: division by zero\n"
               ]
            },
            {
               "name": "stdout",
               "output_type": "stream",
               "text": [
                  "2024-08-20 12:53:22,219 | ERROR | __main__:43:<module> | Exception details with traceback: division by zero\n",
                  "Traceback (most recent call last):\n",
                  "  File \"/var/folders/f3/pxd2mkvj6cvgxr_d9f2brs7w0000gn/T/ipykernel_37754/347257970.py\", line 38, in <module>\n",
                  "    1 / 0\n",
                  "    ~~^~~\n",
                  "ZeroDivisionError: division by zero\n"
               ]
            }
         ],
         "source": [
            "# Advanced logging setup with multiple handlers and a formatter\n",
            "# Ref: https://docs.python.org/3/howto/logging-cookbook.html#logging-cookbook\n",
            "\n",
            "import logging\n",
            "import sys\n",
            "\n",
            "\n",
            "# create a console handler and set its log level\n",
            "ch = logging.StreamHandler(stream=sys.stderr)\n",
            "ch.setLevel(logging.DEBUG)  # log all messages\n",
            "\n",
            "# create another handler with a different log level that logs to a file\n",
            "fh = logging.FileHandler(\"demo.log\", mode=\"w\", encoding=\"utf-8\")\n",
            "fh.setLevel(logging.WARNING)  # only log messages with WARNING level or higher\n",
            "\n",
            "# create a formatter\n",
            "formatter = logging.Formatter(\"{asctime} | {levelname} | {name}:{lineno}:{funcName} | {message}\", style=\"{\")\n",
            "ch.setFormatter(formatter)  # apply the formatter to the console handler\n",
            "fh.setFormatter(formatter)  # apply the formatter to the file handler\n",
            "\n",
            "\n",
            "# create the logger\n",
            "logger = logging.getLogger(__name__)\n",
            "\n",
            "# add the handlers to the logger object\n",
            "logger.addHandler(ch)\n",
            "logger.addHandler(fh)\n",
            "\n",
            "# log some messages\n",
            "logger.debug(\"This is a debug message\")\n",
            "logger.info(\"This is an info message\")\n",
            "logger.warning(\"This is a warning message\")\n",
            "logger.error(\"This is an error message\")\n",
            "logger.critical(\"This is a critical message\")\n",
            "\n",
            "\n",
            "try:\n",
            "    1 / 0\n",
            "except Exception as err:\n",
            "    logger.exception(\n",
            "        \"Exception details without traceback: %s\", err, exc_info=False\n",
            "    )  # this will log the exception message\n",
            "    logger.exception(\n",
            "        \"Exception details with traceback: %s\", err, exc_info=True\n",
            "    )  # this will log the exception message and traceback"
         ]
      },
      {
         "cell_type": "markdown",
         "metadata": {},
         "source": [
            "## [`loguru`](https://loguru.readthedocs.io/en/stable/overview.html)\n",
            "\n",
            ">The main concept of Loguru is that there is one and only one logger. No Handler, no Formatter, no Filter: one function to rule them all."
         ]
      },
      {
         "cell_type": "code",
         "execution_count": 35,
         "metadata": {},
         "outputs": [],
         "source": [
            "from loguru import logger\n",
            "\n",
            "# log some messages\n",
            "logger.debug(\"This is a debug message\")\n",
            "logger.info(\"This is an info message\")\n",
            "logger.warning(\"This is a warning message\")\n",
            "logger.error(\"This is an error message\")\n",
            "logger.critical(\"This is a critical message\")\n",
            "# logger.exception(\"This is an exception message\")"
         ]
      },
      {
         "cell_type": "code",
         "execution_count": 3,
         "metadata": {},
         "outputs": [
            {
               "name": "stdout",
               "output_type": "stream",
               "text": [
                  "\u001b[32m2024-08-16 15:15:42\u001b[0m | \u001b[32m\u001b[1mSUCCESS \u001b[0m | \u001b[36m__main__:<module>:42\u001b[0m | \u001b[32m\u001b[1mThis is a success message\u001b[0m | \u001b[32m\u001b[1m{}\u001b[0m\n",
                  "\u001b[32m2024-08-16 15:15:42\u001b[0m | \u001b[1mINFO    \u001b[0m | \u001b[36m__main__:<module>:43\u001b[0m | \u001b[1mThis is an info message\u001b[0m | \u001b[1m{}\u001b[0m\n",
                  "\u001b[32m2024-08-16 15:15:42\u001b[0m | \u001b[33m\u001b[1mWARNING \u001b[0m | \u001b[36m__main__:<module>:44\u001b[0m | \u001b[33m\u001b[1mThis is a warning message\u001b[0m | \u001b[33m\u001b[1m{}\u001b[0m\n",
                  "\u001b[32m2024-08-16 15:15:42\u001b[0m | \u001b[31m\u001b[1mERROR   \u001b[0m | \u001b[36m__main__:<module>:45\u001b[0m | \u001b[31m\u001b[1mThis is an error message\u001b[0m | \u001b[31m\u001b[1m{}\u001b[0m\n",
                  "\u001b[32m2024-08-16 15:15:42\u001b[0m | \u001b[41m\u001b[1mCRITICAL\u001b[0m | \u001b[36m__main__:<module>:46\u001b[0m | \u001b[41m\u001b[1mThis is a critical message\u001b[0m | \u001b[41m\u001b[1m{}\u001b[0m\n",
                  "\u001b[32m2024-08-16 15:15:42\u001b[0m | \u001b[1mINFO    \u001b[0m | \u001b[36m__main__:<module>:47\u001b[0m | \u001b[1mAdding extra data to log messages\u001b[0m | \u001b[1m{\"extra\": {\"extra_key\": \"extra_value\", \"another_key\": \"another_value\", \"user_id\": 12345}}\u001b[0m\n",
                  "\u001b[32m2024-08-16 15:15:42\u001b[0m | \u001b[31m\u001b[1mERROR   \u001b[0m | \u001b[36m__main__:<module>:60\u001b[0m | \u001b[31m\u001b[1mException details without traceback: division by zero\u001b[0m | \u001b[31m\u001b[1m{}\u001b[0m\n",
                  "\u001b[32m2024-08-16 15:15:42\u001b[0m | \u001b[31m\u001b[1mERROR   \u001b[0m | \u001b[36m__main__:<module>:63\u001b[0m | \u001b[31m\u001b[1mException details with traceback: division by zero\u001b[0m | \u001b[31m\u001b[1m{}\u001b[0m\n",
                  "\u001b[33m\u001b[1mTraceback (most recent call last):\u001b[0m\n",
                  "  File \"\u001b[32m/tmp/ipykernel_85626/\u001b[0m\u001b[32m\u001b[1m4153603228.py\u001b[0m\", line \u001b[33m57\u001b[0m, in \u001b[35m<module>\u001b[0m\n",
                  "    \u001b[34m\u001b[1m1\u001b[0m \u001b[35m\u001b[1m/\u001b[0m \u001b[34m\u001b[1m0\u001b[0m\n",
                  "\u001b[31m\u001b[1mZeroDivisionError\u001b[0m:\u001b[1m division by zero\u001b[0m\n"
               ]
            }
         ],
         "source": [
            "import os\n",
            "import sys\n",
            "import json\n",
            "from loguru import logger\n",
            "\n",
            "# loguru supports setting the log level with env vars out of the box\n",
            "os.environ[\"LOGURU_LEVEL\"] = \"INFO\"\n",
            "\n",
            "\n",
            "def serialize_extra_keys(record):\n",
            "    extra = record[\"extra\"]\n",
            "    if extra:\n",
            "        record[\"extra\"] = json.dumps(extra)\n",
            "    return record\n",
            "\n",
            "# READ MORE about Loguru Configuration here: https://loguru.readthedocs.io/en/stable/api/logger.html\n",
            "logging_config = {\n",
            "    \"handlers\": [\n",
            "        {\n",
            "            \"sink\": sys.stdout,\n",
            "            \"format\": \"<green>{time:YYYY-MM-DD HH:mm:ss}</green> | <level>{level: <8}</level> | <cyan>{name}:{function}:{line}</cyan> | <level>{message}</level> | <level>{extra}</level>\",\n",
            "            \"level\": os.environ[\"LOGURU_LEVEL\"],\n",
            "            \"filter\": serialize_extra_keys,\n",
            "            \"colorize\": True,\n",
            "            # Whether the exception trace should display the variables values to eases the debugging.\n",
            "            # This should be set to False in production to avoid leaking sensitive data.\n",
            "            \"diagnose\": False,\n",
            "            # Whether the exception trace formatted should be extended upward, beyond the catching point,\n",
            "            # to show the full stacktrace which generated the error.\n",
            "            \"backtrace\": False,\n",
            "        },\n",
            "    ],\n",
            "}\n",
            "\n",
            "# Remove the default logger config and add custom configurations\n",
            "logger.remove()\n",
            "logger.configure(**logging_config)\n",
            "\n",
            "\n",
            "# log some messages\n",
            "logger.debug(\"This is a debug message\")\n",
            "logger.success(\"This is a success message\")\n",
            "logger.info(\"This is an info message\")\n",
            "logger.warning(\"This is a warning message\")\n",
            "logger.error(\"This is an error message\")\n",
            "logger.critical(\"This is a critical message\")\n",
            "logger.info(\n",
            "    \"Adding extra data to log messages\",\n",
            "    extra={\"extra_key\": \"extra_value\", \"another_key\": \"another_value\", \"user_id\": 12345},\n",
            ")\n",
            "\n",
            "\n",
            "# https://loguru.readthedocs.io/en/stable/overview.html#lazy-evaluation-of-expensive-functions\n",
            "# https://github.com/Delgan/loguru/issues/30\n",
            "\n",
            "try:\n",
            "    1 / 0\n",
            "except Exception as err:\n",
            "    # logger.exception(\"An exception occurred: {}\", e)    # log the exception details & traceback\n",
            "    logger.opt(exception=False).error(\"Exception details without traceback: {}\", err)\n",
            "\n",
            "    # UNCOMMENT THE LINE BELOW TO SEE THE FULL TRACEBACK: loguru gives a ver long traceback\n",
            "    logger.opt(exception=True).error(\"Exception details with traceback. Note only the lines of code from OUR application are highlighted in the traceback. Very nice: {}\", err)"
         ]
      },
      {
         "cell_type": "markdown",
         "metadata": {},
         "source": [
            "This is how logs get rendered in AWS CloudWatch:\n",
            "\n",
            "![Logguru Logs](./assets/loguru_log.png)"
         ]
      },
      {
         "cell_type": "markdown",
         "metadata": {},
         "source": [
            "## [`aws-lambda-powertools`](https://docs.powertools.aws.dev/lambda/python/latest/core/logger/)\n",
            "\n",
            ">Logging utilities for AWS Lambda functions."
         ]
      },
      {
         "cell_type": "markdown",
         "metadata": {},
         "source": [
            "Specifically, if your application will only ever run in AWS Lambda, then the `aws-lambda-powertools` library may be the most convenient way to log.\n",
            "\n",
            "The `aws_lambda_powertools` library provides `inject_lambda_context` decorator which injects AWS Lambda specific context information into the log record like `cold_start`, `function_request_id`, etc. along an option for logging incoming lambda event."
         ]
      },
      {
         "cell_type": "code",
         "execution_count": 37,
         "metadata": {},
         "outputs": [
            {
               "name": "stdout",
               "output_type": "stream",
               "text": [
                  "\n",
                  "\n",
                  "\n",
                  "\n",
                  "{\"level\":\"WARNING\",\"location\":\"handler:33\",\"message\":\"This is a warning message\",\"timestamp\":\"2024-08-20 12:53:22,276-0600\",\"service\":\"demo-service\",\"cold_start\":true,\"function_name\":\"demo-function\",\"function_memory_size\":128,\"function_arn\":\"arn:aws:lambda:us-west-2:123456789012:function:test-function\",\"function_request_id\":\"fake-request-id\",\"taskName\":\"Task-4\"}\n",
                  "\n",
                  "{\"level\":\"ERROR\",\"location\":\"handler:39\",\"message\":\"This is an error message\",\"timestamp\":\"2024-08-20 12:53:22,276-0600\",\"service\":\"demo-service\",\"cold_start\":true,\"function_name\":\"demo-function\",\"function_memory_size\":128,\"function_arn\":\"arn:aws:lambda:us-west-2:123456789012:function:test-function\",\"function_request_id\":\"fake-request-id\",\"taskName\":\"Task-4\"}\n",
                  "\n",
                  "{\"level\":\"CRITICAL\",\"location\":\"handler:41\",\"message\":\"This is a critical message\",\"timestamp\":\"2024-08-20 12:53:22,277-0600\",\"service\":\"demo-service\",\"cold_start\":true,\"function_name\":\"demo-function\",\"function_memory_size\":128,\"function_arn\":\"arn:aws:lambda:us-west-2:123456789012:function:test-function\",\"function_request_id\":\"fake-request-id\",\"taskName\":\"Task-4\"}\n",
                  "\n",
                  "{\"level\":\"ERROR\",\"location\":\"handler:55\",\"message\":\"Exception without traceback: division by zero\",\"timestamp\":\"2024-08-20 12:53:22,277-0600\",\"service\":\"demo-service\",\"cold_start\":true,\"function_name\":\"demo-function\",\"function_memory_size\":128,\"function_arn\":\"arn:aws:lambda:us-west-2:123456789012:function:test-function\",\"function_request_id\":\"fake-request-id\",\"taskName\":\"Task-4\"}\n",
                  "\n",
                  "{\"level\":\"ERROR\",\"location\":\"handler:57\",\"message\":\"Exception with traceback: division by zero\",\"timestamp\":\"2024-08-20 12:53:22,277-0600\",\"service\":\"demo-service\",\"cold_start\":true,\"function_name\":\"demo-function\",\"function_memory_size\":128,\"function_arn\":\"arn:aws:lambda:us-west-2:123456789012:function:test-function\",\"function_request_id\":\"fake-request-id\",\"taskName\":\"Task-4\",\"exception\":\"Traceback (most recent call last):\\n  File \\\"/var/folders/f3/pxd2mkvj6cvgxr_d9f2brs7w0000gn/T/ipykernel_37754/3030415949.py\\\", line 44, in handler\\n    1 / 0  # raise an exception\\n    ~~^~~\\nZeroDivisionError: division by zero\",\"exception_name\":\"ZeroDivisionError\",\"stack_trace\":{\"type\":\"ZeroDivisionError\",\"value\":\"division by zero\",\"module\":\"builtins\",\"frames\":[{\"file\":\"/var/folders/f3/pxd2mkvj6cvgxr_d9f2brs7w0000gn/T/ipykernel_37754/3030415949.py\",\"line\":44,\"function\":\"handler\",\"statement\":\"1 / 0  # raise an exception\"}]}}\n",
                  "\n",
                  "{'statusCode': 500, 'body': 'Internal Server Error'}\n"
               ]
            }
         ],
         "source": [
            "import os\n",
            "import sys\n",
            "from typing import Any\n",
            "from aws_lambda_powertools import Logger\n",
            "from aws_lambda_powertools.utilities.typing import LambdaContext\n",
            "import os\n",
            "\n",
            "# Powertools logger level can be configured using the environment variable POWERTOOLS_LOG_LEVEL\n",
            "os.environ[\"POWERTOOLS_LOG_LEVEL\"] = \"WARNING\"\n",
            "\n",
            "# Set the \"service key\" that will be present across all log statements\n",
            "# If you have a lot of different services, being able to easily filter logs by service name will be critical when you are troubleshooting a problem in production.\n",
            "os.environ[\"POWERTOOLS_SERVICE_NAME\"] = \"demo-service\"\n",
            "\n",
            "logger = Logger(\n",
            "    # stream=sys.stdout,\n",
            "    # child=True, # If True, the logger will inherit the configuration from the parent logger into another logger instance\n",
            "    # log_uncaught_exceptions=True,  # log uncaught exceptions\n",
            ")\n",
            "\n",
            "\n",
            "@logger.inject_lambda_context()  # clear_state=True will clear the logger state for each invocation\n",
            "def handler(event: dict, context: LambdaContext) -> Any:\n",
            "    try:\n",
            "        logger.debug(\"This is a debug message\")\n",
            "        print()\n",
            "        logger.info(\"This is an info message\")\n",
            "        print()\n",
            "        logger.info(\"This is an info message with extra metadata\", extra={\"extra_key\": \"extra_value\"})\n",
            "        print()\n",
            "        logger.info(\"This is an info message with another extra metadata\", another_extra_key=\"another_extra_value\")\n",
            "        print()\n",
            "        logger.warning(\"This is a warning message\")\n",
            "        print()\n",
            "\n",
            "        # Add extra data to future log messages\n",
            "        # logger.append_keys(extra_data={\"user_id\": 12345}); print()\n",
            "\n",
            "        logger.error(\"This is an error message\")\n",
            "        print()\n",
            "        logger.critical(\"This is a critical message\")\n",
            "        print()\n",
            "\n",
            "        1 / 0  # raise an exception\n",
            "\n",
            "        logger.info(\"Finished processing the event.\")\n",
            "        print()\n",
            "\n",
            "        return {\"statusCode\": 200, \"body\": \"Hello, World!\"}\n",
            "    except Exception as e:\n",
            "        # THIS format is not supported by the logger\n",
            "        # logger.exception(\"Exception without traceback: {}\", e, exc_info=False); print()\n",
            "        # logger.exception(\"Exception with traceback: {}\", e, exc_info=True); print()\n",
            "\n",
            "        logger.exception(\"Exception without traceback: %s\", e, exc_info=False)\n",
            "        print()\n",
            "        logger.exception(\"Exception with traceback: %s\", e, exc_info=True)\n",
            "        print()\n",
            "        return {\"statusCode\": 500, \"body\": \"Internal Server Error\"}\n",
            "\n",
            "\n",
            "# Simulate the Lambda context (optional)\n",
            "class Context:\n",
            "    def __init__(self):\n",
            "        self.function_name = \"demo-function\"\n",
            "        self.memory_limit_in_mb = 128\n",
            "        self.invoked_function_arn = \"arn:aws:lambda:us-west-2:123456789012:function:test-function\"\n",
            "        self.aws_request_id = \"fake-request-id\"\n",
            "\n",
            "\n",
            "if __name__ == \"__main__\":\n",
            "    context = Context()\n",
            "\n",
            "    # Call the handler function as Lambda would\n",
            "    response = handler({}, context)\n",
            "    print(response)"
         ]
      },
      {
         "cell_type": "markdown",
         "metadata": {},
         "source": [
            "This is how `aws-lambda-powertools` logs look like in AWS CloudWatch:\n",
            "\n",
            "![AWS Lambda Powertools Logs](./assets/lambda_powertools_log.png)"
         ]
      },
      {
         "cell_type": "markdown",
         "metadata": {},
         "source": [
            "## Logging Performance Analysis\n",
            "\n",
            "This experiment shows that setting a higher log level can speed up your application.\n",
            "\n",
            "For example, when the log level is `CRITICAL`, then `DEBUG`, `INFO`, `WARNING`, and `ERROR` log events can all be skipped (not emitted)."
         ]
      },
      {
         "cell_type": "code",
         "execution_count": 38,
         "metadata": {},
         "outputs": [
            {
               "data": {
                  "image/png": "[encoded data removed]",
                  "text/plain": [
                     "<Figure size 800x500 with 1 Axes>"
                  ]
               },
               "metadata": {},
               "output_type": "display_data"
            }
         ],
         "source": [
            "import os\n",
            "import timeit\n",
            "import matplotlib.pyplot as plt\n",
            "from loguru import logger\n",
            "\n",
            "LOG_LEVELS = [\"DEBUG\", \"INFO\", \"WARNING\", \"ERROR\", \"CRITICAL\"]\n",
            "NUM_EVENTS = 10_000\n",
            "\n",
            "execution_times = []\n",
            "\n",
            "def log_5n_messages(log_file: str, n: int):\n",
            "    logger.remove()\n",
            "    logger.add(log_file, level=log_level)\n",
            "    for _ in range(NUM_EVENTS):\n",
            "        logger.debug(\"This is a debug message\")\n",
            "        logger.info(\"This is an info message\")\n",
            "        logger.warning(\"This is a warning message\")\n",
            "        logger.error(\"This is an error message\")\n",
            "        logger.critical(\"This is a critical message\")\n",
            "    logger.remove()\n",
            "    os.remove(log_file)\n",
            "\n",
            "def log_messages():\n",
            "    log_5n_messages(log_file=f\"{log_level.lower()}.log\", n=NUM_EVENTS)\n",
            "\n",
            "for log_level in LOG_LEVELS:\n",
            "    execution_time = timeit.timeit(log_messages, number=1)\n",
            "    execution_times.append(execution_time)\n",
            "\n",
            "# Plot the results as a vertical bar chart\n",
            "plt.figure(figsize=(8, 5))\n",
            "plt.bar(LOG_LEVELS, execution_times, color='skyblue', width=0.4)\n",
            "plt.title(f\"Execution time to log {NUM_EVENTS} events at various log levels\")\n",
            "plt.xlabel(\"Log Level\")\n",
            "plt.ylabel(\"Execution Time (seconds)\")\n",
            "plt.show()\n"
         ]
      },
      {
         "cell_type": "markdown",
         "metadata": {},
         "source": [
            "### Deferred vs immediate string substitution\n",
            "\n",
            "Using an f-string causes the string substitution to happen immediately.\n",
            "\n",
            "For example,\n",
            "\n",
            "```python\n",
            "name = \"Eric\"\n",
            "logger.debug(f\"Hello, {name}\")\n",
            "```\n",
            "\n",
            "In this block ^^^, first the f-string is evaluated to the string `\"Hello, Eric\"`, and then the string is passed to the logger.\n",
            "\n",
            "Whereas here,\n",
            "\n",
            "```python\n",
            "name = \"Eric\"\n",
            "logger.debug(\"Hello, {name}\", name=name)\n",
            "```\n",
            "\n",
            "the string `\"Hello, {name}\"` is passed to the logger along with the variable `name`. This way the logger\n",
            "can decide if or when to actually do the string substitution.\n",
            "\n",
            "If the log level is `INFO`, then this string will never be substituted/expanded. \n",
            "\n",
            "The experiment below shows using deferred substitution available in logging libraries\n",
            "can speed up your application by skipping expensive substitutions.\n",
            "\n",
            "For small strings, the difference is negligible. For large substutions, e.g. this large dictionary,\n",
            "the savings is significant."
         ]
      },
      {
         "cell_type": "code",
         "execution_count": 39,
         "metadata": {},
         "outputs": [
            {
               "data": {
                  "text/html": [
                     "    <style>\n",
                     "        .bk-notebook-logo {\n",
                     "            display: block;\n",
                     "            width: 20px;\n",
                     "            height: 20px;\n",
                     "            background-image: url(data:image/png;base64,iVBORw0KGgoAAAANSUhEUgAAABQAAAAUCAYAAACNiR0NAAAABHNCSVQICAgIfAhkiAAAAAlwSFlzAAALEgAACxIB0t1+/AAAABx0RVh0U29mdHdhcmUAQWRvYmUgRmlyZXdvcmtzIENTNui8sowAAAOkSURBVDiNjZRtaJVlGMd/1/08zzln5zjP1LWcU9N0NkN8m2CYjpgQYQXqSs0I84OLIC0hkEKoPtiH3gmKoiJDU7QpLgoLjLIQCpEsNJ1vqUOdO7ppbuec5+V+rj4ctwzd8IIbbi6u+8f1539dt3A78eXC7QizUF7gyV1fD1Yqg4JWz84yffhm0qkFqBogB9rM8tZdtwVsPUhWhGcFJngGeWrPzHm5oaMmkfEg1usvLFyc8jLRqDOMru7AyC8saQr7GG7f5fvDeH7Ej8CM66nIF+8yngt6HWaKh7k49Soy9nXurCi1o3qUbS3zWfrYeQDTB/Qj6kX6Ybhw4B+bOYoLKCC9H3Nu/leUTZ1JdRWkkn2ldcCamzrcf47KKXdAJllSlxAOkRgyHsGC/zRday5Qld9DyoM4/q/rUoy/CXh3jzOu3bHUVZeU+DEn8FInkPBFlu3+nW3Nw0mk6vCDiWg8CeJaxEwuHS3+z5RgY+YBR6V1Z1nxSOfoaPa4LASWxxdNp+VWTk7+4vzaou8v8PN+xo+KY2xsw6une2frhw05CTYOmQvsEhjhWjn0bmXPjpE1+kplmmkP3suftwTubK9Vq22qKmrBhpY4jvd5afdRA3wGjFAgcnTK2s4hY0/GPNIb0nErGMCRxWOOX64Z8RAC4oCXdklmEvcL8o0BfkNK4lUg9HTl+oPlQxdNo3Mg4Nv175e/1LDGzZen30MEjRUtmXSfiTVu1kK8W4txyV6BMKlbgk3lMwYCiusNy9fVfvvwMxv8Ynl6vxoByANLTWplvuj/nF9m2+PDtt1eiHPBr1oIfhCChQMBw6Aw0UulqTKZdfVvfG7VcfIqLG9bcldL/+pdWTLxLUy8Qq38heUIjh4XlzZxzQm19lLFlr8vdQ97rjZVOLf8nclzckbcD4wxXMidpX30sFd37Fv/GtwwhzhxGVAprjbg0gCAEeIgwCZyTV2Z1REEW8O4py0wsjeloKoMr6iCY6dP92H6Vw/oTyICIthibxjm/DfN9lVz8IqtqKYLUXfoKVMVQVVJOElGjrnnUt9T9wbgp8AyYKaGlqingHZU/uG2NTZSVqwHQTWkx9hxjkpWDaCg6Ckj5qebgBVbT3V3NNXMSiWSDdGV3hrtzla7J+duwPOToIg42ChPQOQjspnSlp1V+Gjdged7+8UN5CRAV7a5EdFNwCjEaBR27b3W890TE7g24NAP/mMDXRWrGoFPQI9ls/MWO2dWFAar/xcOIImbbpA3zgAAAABJRU5ErkJggg==);\n",
                     "        }\n",
                     "    </style>\n",
                     "    <div>\n",
                     "        <a href=\"https://bokeh.org\" target=\"_blank\" class=\"bk-notebook-logo\"></a>\n",
                     "        <span id=\"f21ee287-13b9-4e00-9c03-aa68bd3e3117\">Loading BokehJS ...</span>\n",
                     "    </div>\n"
                  ]
               },
               "metadata": {},
               "output_type": "display_data"
            },
            {
               "data": {
                  "application/javascript": "'use strict';\n(function(root) {\n  function now() {\n    return new Date();\n  }\n\n  const force = true;\n\n  if (typeof root._bokeh_onload_callbacks === \"undefined\" || force === true) {\n    root._bokeh_onload_callbacks = [];\n    root._bokeh_is_loading = undefined;\n  }\n\nconst JS_MIME_TYPE = 'application/javascript';\n  const HTML_MIME_TYPE = 'text/html';\n  const EXEC_MIME_TYPE = 'application/vnd.bokehjs_exec.v0+json';\n  const CLASS_NAME = 'output_bokeh rendered_html';\n\n  /**\n   * Render data to the DOM node\n   */\n  function render(props, node) {\n    const script = document.createElement(\"script\");\n    node.appendChild(script);\n  }\n\n  /**\n   * Handle when an output is cleared or removed\n   */\n  function handleClearOutput(event, handle) {\n    function drop(id) {\n      const view = Bokeh.index.get_by_id(id)\n      if (view != null) {\n        view.model.document.clear()\n        Bokeh.index.delete(view)\n      }\n    }\n\n    const cell = handle.cell;\n\n    const id = cell.output_area._bokeh_element_id;\n    const server_id = cell.output_area._bokeh_server_id;\n\n    // Clean up Bokeh references\n    if (id != null) {\n      drop(id)\n    }\n\n    if (server_id !== undefined) {\n      // Clean up Bokeh references\n      const cmd_clean = \"from bokeh.io.state import curstate; print(curstate().uuid_to_server['\" + server_id + \"'].get_sessions()[0].document.roots[0]._id)\";\n      cell.notebook.kernel.execute(cmd_clean, {\n        iopub: {\n          output: function(msg) {\n            const id = msg.content.text.trim()\n            drop(id)\n          }\n        }\n      });\n      // Destroy server and session\n      const cmd_destroy = \"import bokeh.io.notebook as ion; ion.destroy_server('\" + server_id + \"')\";\n      cell.notebook.kernel.execute(cmd_destroy);\n    }\n  }\n\n  /**\n   * Handle when a new output is added\n   */\n  function handleAddOutput(event, handle) {\n    const output_area = handle.output_area;\n    const output = handle.output;\n\n    // limit handleAddOutput to display_data with EXEC_MIME_TYPE content only\n    if ((output.output_type != \"display_data\") || (!Object.prototype.hasOwnProperty.call(output.data, EXEC_MIME_TYPE))) {\n      return\n    }\n\n    const toinsert = output_area.element.find(\".\" + CLASS_NAME.split(' ')[0]);\n\n    if (output.metadata[EXEC_MIME_TYPE][\"id\"] !== undefined) {\n      toinsert[toinsert.length - 1].firstChild.textContent = output.data[JS_MIME_TYPE];\n      // store reference to embed id on output_area\n      output_area._bokeh_element_id = output.metadata[EXEC_MIME_TYPE][\"id\"];\n    }\n    if (output.metadata[EXEC_MIME_TYPE][\"server_id\"] !== undefined) {\n      const bk_div = document.createElement(\"div\");\n      bk_div.innerHTML = output.data[HTML_MIME_TYPE];\n      const script_attrs = bk_div.children[0].attributes;\n      for (let i = 0; i < script_attrs.length; i++) {\n        toinsert[toinsert.length - 1].firstChild.setAttribute(script_attrs[i].name, script_attrs[i].value);\n        toinsert[toinsert.length - 1].firstChild.textContent = bk_div.children[0].textContent\n      }\n      // store reference to server id on output_area\n      output_area._bokeh_server_id = output.metadata[EXEC_MIME_TYPE][\"server_id\"];\n    }\n  }\n\n  function register_renderer(events, OutputArea) {\n\n    function append_mime(data, metadata, element) {\n      // create a DOM node to render to\n      const toinsert = this.create_output_subarea(\n        metadata,\n        CLASS_NAME,\n        EXEC_MIME_TYPE\n      );\n      this.keyboard_manager.register_events(toinsert);\n      // Render to node\n      const props = {data: data, metadata: metadata[EXEC_MIME_TYPE]};\n      render(props, toinsert[toinsert.length - 1]);\n      element.append(toinsert);\n      return toinsert\n    }\n\n    /* Handle when an output is cleared or removed */\n    events.on('clear_output.CodeCell', handleClearOutput);\n    events.on('delete.Cell', handleClearOutput);\n\n    /* Handle when a new output is added */\n    events.on('output_added.OutputArea', handleAddOutput);\n\n    /**\n     * Register the mime type and append_mime function with output_area\n     */\n    OutputArea.prototype.register_mime_type(EXEC_MIME_TYPE, append_mime, {\n      /* Is output safe? */\n      safe: true,\n      /* Index of renderer in `output_area.display_order` */\n      index: 0\n    });\n  }\n\n  // register the mime type if in Jupyter Notebook environment and previously unregistered\n  if (root.Jupyter !== undefined) {\n    const events = require('base/js/events');\n    const OutputArea = require('notebook/js/outputarea').OutputArea;\n\n    if (OutputArea.prototype.mime_types().indexOf(EXEC_MIME_TYPE) == -1) {\n      register_renderer(events, OutputArea);\n    }\n  }\n  if (typeof (root._bokeh_timeout) === \"undefined\" || force === true) {\n    root._bokeh_timeout = Date.now() + 5000;\n    root._bokeh_failed_load = false;\n  }\n\n  const NB_LOAD_WARNING = {'data': {'text/html':\n     \"<div style='background-color: #fdd'>\\n\"+\n     \"<p>\\n\"+\n     \"BokehJS does not appear to have successfully loaded. If loading BokehJS from CDN, this \\n\"+\n     \"may be due to a slow or bad network connection. Possible fixes:\\n\"+\n     \"</p>\\n\"+\n     \"<ul>\\n\"+\n     \"<li>re-rerun `output_notebook()` to attempt to load from CDN again, or</li>\\n\"+\n     \"<li>use INLINE resources instead, as so:</li>\\n\"+\n     \"</ul>\\n\"+\n     \"<code>\\n\"+\n     \"from bokeh.resources import INLINE\\n\"+\n     \"output_notebook(resources=INLINE)\\n\"+\n     \"</code>\\n\"+\n     \"</div>\"}};\n\n  function display_loaded(error = null) {\n    const el = document.getElementById(\"f21ee287-13b9-4e00-9c03-aa68bd3e3117\");\n    if (el != null) {\n      const html = (() => {\n        if (typeof root.Bokeh === \"undefined\") {\n          if (error == null) {\n            return \"BokehJS is loading ...\";\n          } else {\n            return \"BokehJS failed to load.\";\n          }\n        } else {\n          const prefix = `BokehJS ${root.Bokeh.version}`;\n          if (error == null) {\n            return `${prefix} successfully loaded.`;\n          } else {\n            return `${prefix} <b>encountered errors</b> while loading and may not function as expected.`;\n          }\n        }\n      })();\n      el.innerHTML = html;\n\n      if (error != null) {\n        const wrapper = document.createElement(\"div\");\n        wrapper.style.overflow = \"auto\";\n        wrapper.style.height = \"5em\";\n        wrapper.style.resize = \"vertical\";\n        const content = document.createElement(\"div\");\n        content.style.fontFamily = \"monospace\";\n        content.style.whiteSpace = \"pre-wrap\";\n        content.style.backgroundColor = \"rgb(255, 221, 221)\";\n        content.textContent = error.stack ?? error.toString();\n        wrapper.append(content);\n        el.append(wrapper);\n      }\n    } else if (Date.now() < root._bokeh_timeout) {\n      setTimeout(() => display_loaded(error), 100);\n    }\n  }\n\n  function run_callbacks() {\n    try {\n      root._bokeh_onload_callbacks.forEach(function(callback) {\n        if (callback != null)\n          callback();\n      });\n    } finally {\n      delete root._bokeh_onload_callbacks\n    }\n    console.debug(\"Bokeh: all callbacks have finished\");\n  }\n\n  function load_libs(css_urls, js_urls, callback) {\n    if (css_urls == null) css_urls = [];\n    if (js_urls == null) js_urls = [];\n\n    root._bokeh_onload_callbacks.push(callback);\n    if (root._bokeh_is_loading > 0) {\n      console.debug(\"Bokeh: BokehJS is being loaded, scheduling callback at\", now());\n      return null;\n    }\n    if (js_urls == null || js_urls.length === 0) {\n      run_callbacks();\n      return null;\n    }\n    console.debug(\"Bokeh: BokehJS not loaded, scheduling load and callback at\", now());\n    root._bokeh_is_loading = css_urls.length + js_urls.length;\n\n    function on_load() {\n      root._bokeh_is_loading--;\n      if (root._bokeh_is_loading === 0) {\n        console.debug(\"Bokeh: all BokehJS libraries/stylesheets loaded\");\n        run_callbacks()\n      }\n    }\n\n    function on_error(url) {\n      console.error(\"failed to load \" + url);\n    }\n\n    for (let i = 0; i < css_urls.length; i++) {\n      const url = css_urls[i];\n      const element = document.createElement(\"link\");\n      element.onload = on_load;\n      element.onerror = on_error.bind(null, url);\n      element.rel = \"stylesheet\";\n      element.type = \"text/css\";\n      element.href = url;\n      console.debug(\"Bokeh: injecting link tag for BokehJS stylesheet: \", url);\n      document.body.appendChild(element);\n    }\n\n    for (let i = 0; i < js_urls.length; i++) {\n      const url = js_urls[i];\n      const element = document.createElement('script');\n      element.onload = on_load;\n      element.onerror = on_error.bind(null, url);\n      element.async = false;\n      element.src = url;\n      console.debug(\"Bokeh: injecting script tag for BokehJS library: \", url);\n      document.head.appendChild(element);\n    }\n  };\n\n  function inject_raw_css(css) {\n    const element = document.createElement(\"style\");\n    element.appendChild(document.createTextNode(css));\n    document.body.appendChild(element);\n  }\n\n  const js_urls = [\"https://cdn.bokeh.org/bokeh/release/bokeh-3.5.1.min.js\", \"https://cdn.bokeh.org/bokeh/release/bokeh-gl-3.5.1.min.js\", \"https://cdn.bokeh.org/bokeh/release/bokeh-widgets-3.5.1.min.js\", \"https://cdn.bokeh.org/bokeh/release/bokeh-tables-3.5.1.min.js\", \"https://cdn.bokeh.org/bokeh/release/bokeh-mathjax-3.5.1.min.js\"];\n  const css_urls = [];\n\n  const inline_js = [    function(Bokeh) {\n      Bokeh.set_log_level(\"info\");\n    },\nfunction(Bokeh) {\n    }\n  ];\n\n  function run_inline_js() {\n    if (root.Bokeh !== undefined || force === true) {\n      try {\n            for (let i = 0; i < inline_js.length; i++) {\n      inline_js[i].call(root, root.Bokeh);\n    }\n\n      } catch (error) {display_loaded(error);throw error;\n      }if (force === true) {\n        display_loaded();\n      }} else if (Date.now() < root._bokeh_timeout) {\n      setTimeout(run_inline_js, 100);\n    } else if (!root._bokeh_failed_load) {\n      console.log(\"Bokeh: BokehJS failed to load within specified timeout.\");\n      root._bokeh_failed_load = true;\n    } else if (force !== true) {\n      const cell = $(document.getElementById(\"f21ee287-13b9-4e00-9c03-aa68bd3e3117\")).parents('.cell').data().cell;\n      cell.output_area.append_execute_result(NB_LOAD_WARNING)\n    }\n  }\n\n  if (root._bokeh_is_loading === 0) {\n    console.debug(\"Bokeh: BokehJS loaded, going straight to plotting\");\n    run_inline_js();\n  } else {\n    load_libs(css_urls, js_urls, function() {\n      console.debug(\"Bokeh: BokehJS plotting callback run at\", now());\n      run_inline_js();\n    });\n  }\n}(window));",
                  "application/vnd.bokehjs_load.v0+json": ""
               },
               "metadata": {},
               "output_type": "display_data"
            },
            {
               "data": {
                  "text/html": [
                     "\n",
                     "  <div id=\"a4c582f5-5588-490b-8b03-793890951c44\" data-root-id=\"p2211\" style=\"display: contents;\"></div>\n"
                  ]
               },
               "metadata": {},
               "output_type": "display_data"
            },
            {
               "data": {
                  "application/javascript": "(function(root) {\n  function embed_document(root) {\n  const docs_json = {\"3301136f-97a2-433c-91ba-2fa11ba2a660\":{\"version\":\"3.5.1\",\"title\":\"Bokeh Application\",\"roots\":[{\"type\":\"object\",\"name\":\"Figure\",\"id\":\"p2211\",\"attributes\":{\"width\":400,\"height\":400,\"x_range\":{\"type\":\"object\",\"name\":\"FactorRange\",\"id\":\"p2221\",\"attributes\":{\"factors\":[\"f-string (eager substitution)\\nsubstitutes at\\nall levels\",\"loguru (deferred substitution)\\nskips substitution\\nat lower levels\"]}},\"y_range\":{\"type\":\"object\",\"name\":\"DataRange1d\",\"id\":\"p2213\"},\"x_scale\":{\"type\":\"object\",\"name\":\"CategoricalScale\",\"id\":\"p2222\"},\"y_scale\":{\"type\":\"object\",\"name\":\"LinearScale\",\"id\":\"p2223\"},\"title\":{\"type\":\"object\",\"name\":\"Title\",\"id\":\"p2214\",\"attributes\":{\"text\":\"Logging 100 events in each of\\nDEBUG | INFO | WARNING | ERROR | CRITICAL,\\nsubstituting a large dict in f-string vs logging.\\nLog level set to CRITICAL.\"}},\"renderers\":[{\"type\":\"object\",\"name\":\"GlyphRenderer\",\"id\":\"p2253\",\"attributes\":{\"data_source\":{\"type\":\"object\",\"name\":\"ColumnDataSource\",\"id\":\"p2247\",\"attributes\":{\"selected\":{\"type\":\"object\",\"name\":\"Selection\",\"id\":\"p2248\",\"attributes\":{\"indices\":[],\"line_indices\":[]}},\"selection_policy\":{\"type\":\"object\",\"name\":\"UnionRenderers\",\"id\":\"p2249\"},\"data\":{\"type\":\"map\",\"entries\":[[\"x\",[\"f-string (eager substitution)\\nsubstitutes at\\nall levels\",\"loguru (deferred substitution)\\nskips substitution\\nat lower levels\"]],[\"top\",[5.184458166011609,1.0987146249972284]]]}}},\"view\":{\"type\":\"object\",\"name\":\"CDSView\",\"id\":\"p2254\",\"attributes\":{\"filter\":{\"type\":\"object\",\"name\":\"AllIndices\",\"id\":\"p2255\"}}},\"glyph\":{\"type\":\"object\",\"name\":\"VBar\",\"id\":\"p2250\",\"attributes\":{\"x\":{\"type\":\"field\",\"field\":\"x\"},\"width\":{\"type\":\"value\",\"value\":0.2},\"top\":{\"type\":\"field\",\"field\":\"top\"},\"line_color\":{\"type\":\"value\",\"value\":\"rgba(0, 0, 255, 0.6)\"},\"fill_color\":{\"type\":\"value\",\"value\":\"rgba(0, 0, 255, 0.6)\"},\"hatch_color\":{\"type\":\"value\",\"value\":\"rgba(0, 0, 255, 0.6)\"}}},\"nonselection_glyph\":{\"type\":\"object\",\"name\":\"VBar\",\"id\":\"p2251\",\"attributes\":{\"x\":{\"type\":\"field\",\"field\":\"x\"},\"width\":{\"type\":\"value\",\"value\":0.2},\"top\":{\"type\":\"field\",\"field\":\"top\"},\"line_color\":{\"type\":\"value\",\"value\":\"rgba(0, 0, 255, 0.6)\"},\"line_alpha\":{\"type\":\"value\",\"value\":0.1},\"fill_color\":{\"type\":\"value\",\"value\":\"rgba(0, 0, 255, 0.6)\"},\"fill_alpha\":{\"type\":\"value\",\"value\":0.1},\"hatch_color\":{\"type\":\"value\",\"value\":\"rgba(0, 0, 255, 0.6)\"},\"hatch_alpha\":{\"type\":\"value\",\"value\":0.1}}},\"muted_glyph\":{\"type\":\"object\",\"name\":\"VBar\",\"id\":\"p2252\",\"attributes\":{\"x\":{\"type\":\"field\",\"field\":\"x\"},\"width\":{\"type\":\"value\",\"value\":0.2},\"top\":{\"type\":\"field\",\"field\":\"top\"},\"line_color\":{\"type\":\"value\",\"value\":\"rgba(0, 0, 255, 0.6)\"},\"line_alpha\":{\"type\":\"value\",\"value\":0.2},\"fill_color\":{\"type\":\"value\",\"value\":\"rgba(0, 0, 255, 0.6)\"},\"fill_alpha\":{\"type\":\"value\",\"value\":0.2},\"hatch_color\":{\"type\":\"value\",\"value\":\"rgba(0, 0, 255, 0.6)\"},\"hatch_alpha\":{\"type\":\"value\",\"value\":0.2}}}}}],\"toolbar\":{\"type\":\"object\",\"name\":\"Toolbar\",\"id\":\"p2220\",\"attributes\":{\"tools\":[{\"type\":\"object\",\"name\":\"PanTool\",\"id\":\"p2234\"},{\"type\":\"object\",\"name\":\"WheelZoomTool\",\"id\":\"p2235\",\"attributes\":{\"renderers\":\"auto\"}},{\"type\":\"object\",\"name\":\"BoxZoomTool\",\"id\":\"p2236\",\"attributes\":{\"overlay\":{\"type\":\"object\",\"name\":\"BoxAnnotation\",\"id\":\"p2237\",\"attributes\":{\"syncable\":false,\"line_color\":\"black\",\"line_alpha\":1.0,\"line_width\":2,\"line_dash\":[4,4],\"fill_color\":\"lightgrey\",\"fill_alpha\":0.5,\"level\":\"overlay\",\"visible\":false,\"left\":{\"type\":\"number\",\"value\":\"nan\"},\"right\":{\"type\":\"number\",\"value\":\"nan\"},\"top\":{\"type\":\"number\",\"value\":\"nan\"},\"bottom\":{\"type\":\"number\",\"value\":\"nan\"},\"left_units\":\"canvas\",\"right_units\":\"canvas\",\"top_units\":\"canvas\",\"bottom_units\":\"canvas\",\"handles\":{\"type\":\"object\",\"name\":\"BoxInteractionHandles\",\"id\":\"p2243\",\"attributes\":{\"all\":{\"type\":\"object\",\"name\":\"AreaVisuals\",\"id\":\"p2242\",\"attributes\":{\"fill_color\":\"white\",\"hover_fill_color\":\"lightgray\"}}}}}}}},{\"type\":\"object\",\"name\":\"SaveTool\",\"id\":\"p2244\"},{\"type\":\"object\",\"name\":\"ResetTool\",\"id\":\"p2245\"},{\"type\":\"object\",\"name\":\"HelpTool\",\"id\":\"p2246\"}]}},\"toolbar_location\":null,\"left\":[{\"type\":\"object\",\"name\":\"LinearAxis\",\"id\":\"p2229\",\"attributes\":{\"ticker\":{\"type\":\"object\",\"name\":\"BasicTicker\",\"id\":\"p2230\",\"attributes\":{\"mantissas\":[1,2,5]}},\"formatter\":{\"type\":\"object\",\"name\":\"BasicTickFormatter\",\"id\":\"p2231\"},\"axis_label\":\"Time (seconds)\",\"axis_label_text_font_size\":\"14pt\",\"major_label_policy\":{\"type\":\"object\",\"name\":\"AllLabels\",\"id\":\"p2232\"}}}],\"below\":[{\"type\":\"object\",\"name\":\"CategoricalAxis\",\"id\":\"p2224\",\"attributes\":{\"ticker\":{\"type\":\"object\",\"name\":\"CategoricalTicker\",\"id\":\"p2225\"},\"formatter\":{\"type\":\"object\",\"name\":\"CategoricalTickFormatter\",\"id\":\"p2226\"},\"axis_label_text_font_style\":\"bold\",\"major_label_policy\":{\"type\":\"object\",\"name\":\"AllLabels\",\"id\":\"p2227\"}}}],\"center\":[{\"type\":\"object\",\"name\":\"Grid\",\"id\":\"p2228\",\"attributes\":{\"axis\":{\"id\":\"p2224\"}}},{\"type\":\"object\",\"name\":\"Grid\",\"id\":\"p2233\",\"attributes\":{\"dimension\":1,\"axis\":{\"id\":\"p2229\"}}}]}}]}};\n  const render_items = [{\"docid\":\"3301136f-97a2-433c-91ba-2fa11ba2a660\",\"roots\":{\"p2211\":\"a4c582f5-5588-490b-8b03-793890951c44\"},\"root_ids\":[\"p2211\"]}];\n  void root.Bokeh.embed.embed_items_notebook(docs_json, render_items);\n  }\n  if (root.Bokeh !== undefined) {\n    embed_document(root);\n  } else {\n    let attempts = 0;\n    const timer = setInterval(function(root) {\n      if (root.Bokeh !== undefined) {\n        clearInterval(timer);\n        embed_document(root);\n      } else {\n        attempts++;\n        if (attempts > 100) {\n          clearInterval(timer);\n          console.log(\"Bokeh: ERROR: Unable to run BokehJS code because BokehJS library is missing\");\n        }\n      }\n    }, 10, root)\n  }\n})(window);",
                  "application/vnd.bokehjs_exec.v0+json": ""
               },
               "metadata": {
                  "application/vnd.bokehjs_exec.v0+json": {
                     "id": "p2211"
                  }
               },
               "output_type": "display_data"
            }
         ],
         "source": [
            "import timeit\n",
            "from bokeh.plotting import figure, show, output_notebook\n",
            "from loguru import logger\n",
            "import os\n",
            "\n",
            "large_dict = {f\"key_{i}\": f\"value_{i}\" for i in range(100_000)}\n",
            "NUM_EVENTS = 100\n",
            "\n",
            "def log_f_string():\n",
            "    logger.remove()\n",
            "    handler_id = logger.add(\"f_string.log\", level=\"CRITICAL\")\n",
            "    for _ in range(NUM_EVENTS):\n",
            "        logger.debug(f\"A large dict: {large_dict}\")\n",
            "        logger.info(f\"A large dict: {large_dict}\")\n",
            "        logger.warning(f\"A large dict: {large_dict}\")\n",
            "        logger.error(f\"A large dict: {large_dict}\")\n",
            "        logger.critical(f\"A large dict: {large_dict}\")\n",
            "    logger.remove(handler_id)\n",
            "\n",
            "def log_loguru_style():\n",
            "    logger.remove()\n",
            "    handler_id = logger.add(\"loguru_style.log\", level=\"CRITICAL\")\n",
            "    for _ in range(NUM_EVENTS):\n",
            "        logger.debug(\"A large dict: {expr}\", expr=large_dict)\n",
            "        logger.info(\"A large dict: {expr}\", expr=large_dict)\n",
            "        logger.warning(\"A large dict: {expr}\", expr=large_dict)\n",
            "        logger.error(\"A large dict: {expr}\", expr=large_dict)\n",
            "        logger.critical(\"A large dict: {expr}\", expr=large_dict)\n",
            "    logger.remove(handler_id)\n",
            "\n",
            "f_string_time = timeit.timeit(log_f_string, number=1)\n",
            "loguru_style_time = timeit.timeit(log_loguru_style, number=1)\n",
            "\n",
            "\n",
            "output_notebook()\n",
            "p = figure(x_range=[\"f-string (eager substitution)\\nsubstitutes at\\nall levels\", \"loguru (deferred substitution)\\nskips substitution\\nat lower levels\"], title=f\"Logging {NUM_EVENTS} events in each of\\nDEBUG | INFO | WARNING | ERROR | CRITICAL,\\nsubstituting a large dict in f-string vs logging.\\nLog level set to CRITICAL.\", height=400, width=400, toolbar_location=None)\n",
            "p.vbar(x=[\"f-string (eager substitution)\\nsubstitutes at\\nall levels\", \"loguru (deferred substitution)\\nskips substitution\\nat lower levels\"], top=[f_string_time, loguru_style_time], width=0.2, color=\"rgba(0, 0, 255, 0.6)\")\n",
            "p.yaxis.axis_label = \"Time (seconds)\"; p.yaxis.axis_label_text_font_size = \"14pt\"; p.xaxis.axis_label_text_font_style = \"bold\"\n",
            "show(p)\n",
            "\n",
            "# Cleanup log files\n",
            "os.remove(\"f_string.log\")\n",
            "os.remove(\"loguru_style.log\")"
         ]
      }
   ],
   "metadata": {
      "kernelspec": {
         "display_name": ".venv",
         "language": "python",
         "name": "python3"
      },
      "language_info": {
         "codemirror_mode": {
            "name": "ipython",
            "version": 3
         },
         "file_extension": ".py",
         "mimetype": "text/x-python",
         "name": "python",
         "nbconvert_exporter": "python",
         "pygments_lexer": "ipython3",
         "version": "3.11.9"
      }
   },
   "nbformat": 4,
   "nbformat_minor": 2
}