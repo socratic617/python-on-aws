{
 "cells": [
  {
   "cell_type": "markdown",
   "metadata": {},
   "source": [
    "# Logging\n",
    "\n",
    "\n",
    "*Setting up logging can be hard, but in this notebook we will go through different tools and libraries that can help you set up logging in your application.*"
   ]
  },
  {
   "cell_type": "markdown",
   "metadata": {},
   "source": [
    "### What is logging?\n",
    "\n",
    "- Logging is a means of tracking \"events\" when your application runs. \n",
    "\n",
    "- An *event* can be anything of interest that happens during the execution of your program like \n",
    "  - an occurance of an error, \n",
    "  - a simple infomatational message, \n",
    "  - announcing that your program started, or you API call was successful etc.\n",
    "\n",
    "- Events are logged with a descriptive message which optionally can have associated metadata about the state of your application.\n",
    "\n",
    "- Application developers can assign log events a level of importance; the importance can also be called the **level or severity**.\n",
    "\n",
    "\n",
    "### When to use logging?\n",
    "\n",
    "| Task you want to perform                                                                 | The best tool for the task                                                                                         |\n",
    "|------------------------------------------------------------------------------------------|--------------------------------------------------------------------------------------------------------------------|\n",
    "| Display console output for ordinary usage of a command line script or program            | `print()`                                                                                                          |\n",
    "| Report events that occur during normal operation of a program (e.g. for status monitoring or fault investigation) | A logger’s `info()` (or `debug()` method for very detailed output for diagnostic purposes)                          |\n",
    "| Issue a warning regarding a particular runtime event                                     | `warnings.warn()` in library code if the issue is avoidable and the client application should be modified to eliminate the warning<br>A logger’s `warning()` method, if there is nothing the client application can do about the situation, but the event should still be noted |\n",
    "| Report an error regarding a particular runtime event                                     | Raise an exception                                                                                                 |\n",
    "| Report suppression of an error without raising an exception (e.g. error handler in a long-running server process) | A logger’s `error()`, `exception()`, or `critical()` method as appropriate for the specific error and application domain |\n",
    "\n",
    "\n",
    "### Logging Levels\n",
    "\n",
    "The logger methods are named after the *level or severity* of the events they are used to track. The standard levels (in increasing order of severity) are: `DEBUG`, `INFO`, `WARNING`, `ERROR`, and `CRITICAL`. \n",
    "\n",
    "You can read more about them [*here*](https://docs.python.org/3/library/logging.html#logging-levels).\n",
    "\n",
    "\n",
    "<p align=\"right\"><i>Source: <a href=\"https://docs.python.org/3/howto/logging.html\">Python Logging Docs</a></i></p>"
   ]
  },
  {
   "cell_type": "code",
   "execution_count": 1,
   "metadata": {},
   "outputs": [
    {
     "name": "stdout",
     "output_type": "stream",
     "text": [
      "\n",
      "\u001b[1m[\u001b[0m\u001b[34;49mnotice\u001b[0m\u001b[1;39;49m]\u001b[0m\u001b[39;49m A new release of pip is available: \u001b[0m\u001b[31;49m24.0\u001b[0m\u001b[39;49m -> \u001b[0m\u001b[32;49m24.2\u001b[0m\n",
      "\u001b[1m[\u001b[0m\u001b[34;49mnotice\u001b[0m\u001b[1;39;49m]\u001b[0m\u001b[39;49m To update, run: \u001b[0m\u001b[32;49mpip install --upgrade pip\u001b[0m\n",
      "Note: you may need to restart the kernel to use updated packages.\n"
     ]
    }
   ],
   "source": [
    "# Install the logging libraries\n",
    "\n",
    "%pip install -q loguru aws-lambda-powertools matplotlib"
   ]
  },
  {
   "cell_type": "markdown",
   "metadata": {},
   "source": [
    "# TODO\n",
    "\n",
    "- [x] How to toggle the verbosity of traceback in loguru?\n",
    "- [x] Ideally show the both ways\n",
    "\n",
    "- [ ] Log Perf. Analysis: Time analysis"
   ]
  },
  {
   "cell_type": "markdown",
   "metadata": {},
   "source": [
    "## Python's `logging` module"
   ]
  },
  {
   "cell_type": "code",
   "execution_count": 1,
   "metadata": {},
   "outputs": [
    {
     "name": "stdout",
     "output_type": "stream",
     "text": [
      "2024-08-13 14:04:01,858 | INFO | __main__:26:<module> | This is an info message\n",
      "2024-08-13 14:04:01,859 | WARNING | __main__:27:<module> | This is a warning message\n",
      "2024-08-13 14:04:01,860 | ERROR | __main__:28:<module> | This is an error message\n",
      "2024-08-13 14:04:01,861 | CRITICAL | __main__:29:<module> | This is a critical message\n"
     ]
    }
   ],
   "source": [
    "# Setup logging in the simplest way possible\n",
    "\n",
    "import os\n",
    "import sys\n",
    "import logging\n",
    "\n",
    "\n",
    "# get log level from environment variable\n",
    "LOG_LEVEL = os.environ.get(\"LOG_LEVEL\", \"INFO\").upper()\n",
    "\n",
    "# configure logger object with the desired log level and format\n",
    "logging.basicConfig(\n",
    "    format=\"{asctime} | {levelname} | {name}:{lineno}:{funcName} | {message}\",\n",
    "    style=\"{\",  # uses {} as placeholders\n",
    "    level=LOG_LEVEL,\n",
    "    stream=sys.stdout,  # where to write the log messages, in this case stdout or console\n",
    ")\n",
    "\n",
    "# create logger object with the name of the current module/file to start logging\n",
    "logger = logging.getLogger(__name__)\n",
    "\n",
    "# logger = logging.getLogger(\"my_logger_instance\")  # you can also use a custom name\n",
    "\n",
    "# log some messages\n",
    "logger.debug(\"This is a debug message\")  # this will not be printed because the log level is set to INFO\n",
    "logger.info(\"This is an info message\")\n",
    "logger.warning(\"This is a warning message\")\n",
    "logger.error(\"This is an error message\")\n",
    "logger.critical(\"This is a critical message\")\n",
    "# logger.exception(\"This is an exception message\")"
   ]
  },
  {
   "cell_type": "markdown",
   "metadata": {},
   "source": [
    "^^^ Note that no `DEBUG` statement was emitted because the log level is set to `INFO`, which mutes all log statements of severity `DEBUG` or lower. In general, setting the log level supresses log events of lower severity.\n",
    "\n",
    "---\n",
    "\n",
    "The logging library takes a modular approach and offers several categories of components: *loggers, handlers, filters, and formatters*.\n",
    "\n",
    "- [***Loggers***](https://docs.python.org/3/howto/logging.html#loggers) used in code to generate log events, e.g. `logger` and `logger.info(...)`.\n",
    "- [***Handlers***](https://docs.python.org/3/howto/logging.html#handlers) send the log records (created by loggers) to the appropriate destination. E.g. a handler that writes log events to a file or `stdout`.\n",
    "- [***Filters***](https://docs.python.org/3/library/logging.html#filter-objects) provide a finer-grained facility for determining which log records to output. E.g. remove log statements that have Personally Identifiable Information (PII) like email addresses.\n",
    "- [***Formatters***](https://docs.python.org/3/library/logging.html#logrecord-attributes) specify the layout of log records in the final output. E.g. formatting log events as JSON.\n",
    "\n",
    "\n",
    "Log event information is passed between *loggers, handlers, filters and formatters* in a LogRecord instance.Logging is performed by calling methods on instances of the Logger class. You can read more on it [*here*](https://docs.python.org/3/howto/logging.html#advanced-logging-tutorial) and [*here*](https://docs.python.org/3/library/logging.html).\n",
    "\n",
    "\n",
    "\n",
    "<p align=\"right\"><i>Source: <a href=\"https://docs.python.org/3/howto/logging.html#advanced-logging-tutorial\">Advanced Python Logging Docs</a></i></p>\n",
    "\n",
    "\n",
    "## Deep dive into the Python logging module\n",
    "<iframe width=\"560\" height=\"315\" src=\"https://www.youtube.com/embed/9L77QExPmI0?si=d1Uk9un95D-PWicy\" title=\"YouTube video player\" frameborder=\"0\" allow=\"accelerometer; autoplay; clipboard-write; encrypted-media; gyroscope; picture-in-picture; web-share\" referrerpolicy=\"strict-origin-when-cross-origin\" allowfullscreen></iframe>"
   ]
  },
  {
   "cell_type": "code",
   "execution_count": 2,
   "metadata": {},
   "outputs": [
    {
     "name": "stderr",
     "output_type": "stream",
     "text": [
      "2024-08-14 13:15:23,047 | WARNING | __main__:32:<module> | This is a warning message\n",
      "2024-08-14 13:15:23,048 | ERROR | __main__:33:<module> | This is an error message\n",
      "2024-08-14 13:15:23,048 | CRITICAL | __main__:34:<module> | This is a critical message\n",
      "2024-08-14 13:15:23,049 | ERROR | __main__:40:<module> | Exception details without traceback: division by zero\n",
      "2024-08-14 13:15:23,049 | ERROR | __main__:43:<module> | Exception details with traceback: division by zero\n",
      "Traceback (most recent call last):\n",
      "  File \"/var/folders/f3/pxd2mkvj6cvgxr_d9f2brs7w0000gn/T/ipykernel_43218/347257970.py\", line 38, in <module>\n",
      "    1 / 0\n",
      "    ~~^~~\n",
      "ZeroDivisionError: division by zero\n"
     ]
    }
   ],
   "source": [
    "# Advanced logging setup with multiple handlers and a formatter\n",
    "# Ref: https://docs.python.org/3/howto/logging-cookbook.html#logging-cookbook\n",
    "\n",
    "import logging\n",
    "import sys\n",
    "\n",
    "\n",
    "# create a console handler and set its log level\n",
    "ch = logging.StreamHandler(stream=sys.stderr)\n",
    "ch.setLevel(logging.DEBUG)  # log all messages\n",
    "\n",
    "# create another handler with a different log level that logs to a file\n",
    "fh = logging.FileHandler(\"demo.log\", mode=\"w\", encoding=\"utf-8\")\n",
    "fh.setLevel(logging.WARNING)  # only log messages with WARNING level or higher\n",
    "\n",
    "# create a formatter\n",
    "formatter = logging.Formatter(\"{asctime} | {levelname} | {name}:{lineno}:{funcName} | {message}\", style=\"{\")\n",
    "ch.setFormatter(formatter)  # apply the formatter to the console handler\n",
    "fh.setFormatter(formatter)  # apply the formatter to the file handler\n",
    "\n",
    "\n",
    "# create the logger\n",
    "logger = logging.getLogger(__name__)\n",
    "\n",
    "# add the handlers to the logger object\n",
    "logger.addHandler(ch)\n",
    "logger.addHandler(fh)\n",
    "\n",
    "# log some messages\n",
    "logger.debug(\"This is a debug message\")\n",
    "logger.info(\"This is an info message\")\n",
    "logger.warning(\"This is a warning message\")\n",
    "logger.error(\"This is an error message\")\n",
    "logger.critical(\"This is a critical message\")\n",
    "\n",
    "\n",
    "try:\n",
    "    1 / 0\n",
    "except Exception as err:\n",
    "    logger.exception(\n",
    "        \"Exception details without traceback: %s\", err, exc_info=False\n",
    "    )  # this will log the exception message\n",
    "    logger.exception(\n",
    "        \"Exception details with traceback: %s\", err, exc_info=True\n",
    "    )  # this will log the exception message and traceback"
   ]
  },
  {
   "cell_type": "markdown",
   "metadata": {},
   "source": [
    "## [`loguru`](https://loguru.readthedocs.io/en/stable/overview.html)\n",
    "\n",
    ">The main concept of Loguru is that there is one and only one logger. No Handler, no Formatter, no Filter: one function to rule them all."
   ]
  },
  {
   "cell_type": "code",
   "execution_count": 3,
   "metadata": {},
   "outputs": [
    {
     "name": "stderr",
     "output_type": "stream",
     "text": [
      "\u001b[32m2024-08-14 13:15:43.912\u001b[0m | \u001b[34m\u001b[1mDEBUG   \u001b[0m | \u001b[36m__main__\u001b[0m:\u001b[36m<module>\u001b[0m:\u001b[36m4\u001b[0m - \u001b[34m\u001b[1mThis is a debug message\u001b[0m\n",
      "\u001b[32m2024-08-14 13:15:43.912\u001b[0m | \u001b[1mINFO    \u001b[0m | \u001b[36m__main__\u001b[0m:\u001b[36m<module>\u001b[0m:\u001b[36m5\u001b[0m - \u001b[1mThis is an info message\u001b[0m\n",
      "\u001b[32m2024-08-14 13:15:43.913\u001b[0m | \u001b[33m\u001b[1mWARNING \u001b[0m | \u001b[36m__main__\u001b[0m:\u001b[36m<module>\u001b[0m:\u001b[36m6\u001b[0m - \u001b[33m\u001b[1mThis is a warning message\u001b[0m\n",
      "\u001b[32m2024-08-14 13:15:43.913\u001b[0m | \u001b[31m\u001b[1mERROR   \u001b[0m | \u001b[36m__main__\u001b[0m:\u001b[36m<module>\u001b[0m:\u001b[36m7\u001b[0m - \u001b[31m\u001b[1mThis is an error message\u001b[0m\n",
      "\u001b[32m2024-08-14 13:15:43.914\u001b[0m | \u001b[41m\u001b[1mCRITICAL\u001b[0m | \u001b[36m__main__\u001b[0m:\u001b[36m<module>\u001b[0m:\u001b[36m8\u001b[0m - \u001b[41m\u001b[1mThis is a critical message\u001b[0m\n"
     ]
    }
   ],
   "source": [
    "from loguru import logger\n",
    "\n",
    "# log some messages\n",
    "logger.debug(\"This is a debug message\")\n",
    "logger.info(\"This is an info message\")\n",
    "logger.warning(\"This is a warning message\")\n",
    "logger.error(\"This is an error message\")\n",
    "logger.critical(\"This is a critical message\")\n",
    "# logger.exception(\"This is an exception message\")"
   ]
  },
  {
   "cell_type": "code",
   "execution_count": 8,
   "metadata": {},
   "outputs": [
    {
     "name": "stdout",
     "output_type": "stream",
     "text": [
      "\u001b[32m2024-08-14 14:01:15\u001b[0m | \u001b[32m\u001b[1mSUCCESS \u001b[0m | \u001b[36m__main__:<module>:36\u001b[0m | \u001b[32m\u001b[1mThis is a success message\u001b[0m | \u001b[32m\u001b[1m{}\u001b[0m\n",
      "\u001b[32m2024-08-14 14:01:15\u001b[0m | \u001b[1mINFO    \u001b[0m | \u001b[36m__main__:<module>:37\u001b[0m | \u001b[1mThis is an info message\u001b[0m | \u001b[1m{}\u001b[0m\n",
      "\u001b[32m2024-08-14 14:01:15\u001b[0m | \u001b[33m\u001b[1mWARNING \u001b[0m | \u001b[36m__main__:<module>:38\u001b[0m | \u001b[33m\u001b[1mThis is a warning message\u001b[0m | \u001b[33m\u001b[1m{}\u001b[0m\n",
      "\u001b[32m2024-08-14 14:01:15\u001b[0m | \u001b[31m\u001b[1mERROR   \u001b[0m | \u001b[36m__main__:<module>:39\u001b[0m | \u001b[31m\u001b[1mThis is an error message\u001b[0m | \u001b[31m\u001b[1m{}\u001b[0m\n",
      "\u001b[32m2024-08-14 14:01:15\u001b[0m | \u001b[41m\u001b[1mCRITICAL\u001b[0m | \u001b[36m__main__:<module>:40\u001b[0m | \u001b[41m\u001b[1mThis is a critical message\u001b[0m | \u001b[41m\u001b[1m{}\u001b[0m\n",
      "\u001b[32m2024-08-14 14:01:15\u001b[0m | \u001b[1mINFO    \u001b[0m | \u001b[36m__main__:<module>:41\u001b[0m | \u001b[1mAdding extra data to log messages\u001b[0m | \u001b[1m{\"extra\": {\"extra_key\": \"extra_value\", \"another_key\": \"another_value\", \"user_id\": 12345}}\u001b[0m\n",
      "\u001b[32m2024-08-14 14:01:15\u001b[0m | \u001b[31m\u001b[1mERROR   \u001b[0m | \u001b[36m__main__:<module>:54\u001b[0m | \u001b[31m\u001b[1mException details without traceback: division by zero\u001b[0m | \u001b[31m\u001b[1m{}\u001b[0m\n"
     ]
    },
    {
     "ename": "TypeError",
     "evalue": "Logger.opt() got an unexpected keyword argument 'diagnose'",
     "output_type": "error",
     "traceback": [
      "\u001b[0;31m---------------------------------------------------------------------------\u001b[0m",
      "\u001b[0;31mZeroDivisionError\u001b[0m                         Traceback (most recent call last)",
      "Cell \u001b[0;32mIn[8], line 51\u001b[0m\n\u001b[1;32m     50\u001b[0m \u001b[38;5;28;01mtry\u001b[39;00m:\n\u001b[0;32m---> 51\u001b[0m     \u001b[38;5;241;43m1\u001b[39;49m\u001b[43m \u001b[49m\u001b[38;5;241;43m/\u001b[39;49m\u001b[43m \u001b[49m\u001b[38;5;241;43m0\u001b[39;49m\n\u001b[1;32m     52\u001b[0m \u001b[38;5;28;01mexcept\u001b[39;00m \u001b[38;5;167;01mException\u001b[39;00m \u001b[38;5;28;01mas\u001b[39;00m err:\n\u001b[1;32m     53\u001b[0m     \u001b[38;5;66;03m# logger.exception(\"An exception occurred: {}\", e)    # log the exception details & traceback\u001b[39;00m\n",
      "\u001b[0;31mZeroDivisionError\u001b[0m: division by zero",
      "\nDuring handling of the above exception, another exception occurred:\n",
      "\u001b[0;31mTypeError\u001b[0m                                 Traceback (most recent call last)",
      "Cell \u001b[0;32mIn[8], line 57\u001b[0m\n\u001b[1;32m     54\u001b[0m logger\u001b[38;5;241m.\u001b[39mopt(exception\u001b[38;5;241m=\u001b[39m\u001b[38;5;28;01mFalse\u001b[39;00m)\u001b[38;5;241m.\u001b[39merror(\u001b[38;5;124m\"\u001b[39m\u001b[38;5;124mException details without traceback: \u001b[39m\u001b[38;5;132;01m{}\u001b[39;00m\u001b[38;5;124m\"\u001b[39m, err)\n\u001b[1;32m     56\u001b[0m \u001b[38;5;66;03m# UNCOMMENT THE LINE BELOW TO SEE THE FULL TRACEBACK: loguru gives a ver long traceback\u001b[39;00m\n\u001b[0;32m---> 57\u001b[0m \u001b[43mlogger\u001b[49m\u001b[38;5;241;43m.\u001b[39;49m\u001b[43mopt\u001b[49m\u001b[43m(\u001b[49m\u001b[43mexception\u001b[49m\u001b[38;5;241;43m=\u001b[39;49m\u001b[38;5;28;43;01mTrue\u001b[39;49;00m\u001b[43m,\u001b[49m\u001b[43m \u001b[49m\u001b[43mdiagnose\u001b[49m\u001b[38;5;241;43m=\u001b[39;49m\u001b[38;5;28;43;01mFalse\u001b[39;49;00m\u001b[43m)\u001b[49m\u001b[38;5;241m.\u001b[39merror(\u001b[38;5;124m\"\u001b[39m\u001b[38;5;124mException details with traceback: \u001b[39m\u001b[38;5;132;01m{}\u001b[39;00m\u001b[38;5;124m\"\u001b[39m, err)\n",
      "\u001b[0;31mTypeError\u001b[0m: Logger.opt() got an unexpected keyword argument 'diagnose'"
     ]
    }
   ],
   "source": [
    "import os\n",
    "import sys\n",
    "import json\n",
    "from loguru import logger\n",
    "\n",
    "# loguru supports setting the log level with env vars out of the box\n",
    "os.environ[\"LOGURU_LEVEL\"] = \"INFO\"\n",
    "\n",
    "\n",
    "def serialize_extra_keys(record):\n",
    "    extra = record[\"extra\"]\n",
    "    if extra:\n",
    "        record[\"extra\"] = json.dumps(extra)\n",
    "    return record\n",
    "\n",
    "\n",
    "logging_config = {\n",
    "    \"handlers\": [\n",
    "        {\n",
    "            \"sink\": sys.stdout,\n",
    "            \"format\": \"<green>{time:YYYY-MM-DD HH:mm:ss}</green> | <level>{level: <8}</level> | <cyan>{name}:{function}:{line}</cyan> | <level>{message}</level> | <level>{extra}</level>\",\n",
    "            \"level\": os.environ[\"LOGURU_LEVEL\"],\n",
    "            \"filter\": serialize_extra_keys,  # loguru filters are for post-processing/formatting log events\n",
    "            \"colorize\": True,\n",
    "        },\n",
    "    ],\n",
    "}\n",
    "\n",
    "# Remove the default logger config and add custom configurations\n",
    "logger.remove()\n",
    "logger.configure(**logging_config)\n",
    "\n",
    "\n",
    "# log some messages\n",
    "logger.debug(\"This is a debug message\")\n",
    "logger.success(\"This is a success message\")\n",
    "logger.info(\"This is an info message\")\n",
    "logger.warning(\"This is a warning message\")\n",
    "logger.error(\"This is an error message\")\n",
    "logger.critical(\"This is a critical message\")\n",
    "logger.info(\n",
    "    \"Adding extra data to log messages\",\n",
    "    extra={\"extra_key\": \"extra_value\", \"another_key\": \"another_value\", \"user_id\": 12345},\n",
    ")\n",
    "\n",
    "\n",
    "# https://loguru.readthedocs.io/en/stable/overview.html#lazy-evaluation-of-expensive-functions\n",
    "# https://github.com/Delgan/loguru/issues/30\n",
    "\n",
    "try:\n",
    "    1 / 0\n",
    "except Exception as err:\n",
    "    # logger.exception(\"An exception occurred: {}\", e)    # log the exception details & traceback\n",
    "    logger.opt(exception=False).error(\"Exception details without traceback: {}\", err)\n",
    "\n",
    "    # UNCOMMENT THE LINE BELOW TO SEE THE FULL TRACEBACK: loguru gives a ver long traceback\n",
    "    logger.opt(exception=True).error(\"Exception details with traceback: {}\", err)"
   ]
  },
  {
   "cell_type": "markdown",
   "metadata": {},
   "source": [
    "This is how logs get rendered in AWS CloudWatch:\n",
    "\n",
    "![Logguru Logs](../assets/loguru_log.png)"
   ]
  },
  {
   "cell_type": "markdown",
   "metadata": {},
   "source": [
    "## [`aws-lambda-powertools`](https://docs.powertools.aws.dev/lambda/python/latest/core/logger/)\n",
    "\n",
    ">Logging utilities for AWS Lambda functions."
   ]
  },
  {
   "cell_type": "markdown",
   "metadata": {},
   "source": [
    "Specifically, if your application will only ever run in AWS Lambda, then the `aws-lambda-powertools` library may be the most convenient way to log.\n",
    "\n",
    "The `aws_lambda_powertools` library provides `inject_lambda_context` decorator which injects AWS Lambda specific context information into the log record like `cold_start`, `function_request_id`, etc. along an option for logging incoming lambda event."
   ]
  },
  {
   "cell_type": "code",
   "execution_count": 7,
   "metadata": {},
   "outputs": [
    {
     "name": "stdout",
     "output_type": "stream",
     "text": [
      "\n",
      "\n",
      "\n",
      "\n",
      "{\"level\":\"WARNING\",\"location\":\"handler:33\",\"message\":\"This is a warning message\",\"timestamp\":\"2024-08-14 13:26:32,831-0600\",\"service\":\"demo-service\",\"cold_start\":true,\"function_name\":\"demo-function\",\"function_memory_size\":128,\"function_arn\":\"arn:aws:lambda:us-west-2:123456789012:function:test-function\",\"function_request_id\":\"fake-request-id\",\"taskName\":\"Task-2\"}\n"
     ]
    },
    {
     "name": "stdout",
     "output_type": "stream",
     "text": [
      "\n",
      "{\"level\":\"ERROR\",\"location\":\"handler:39\",\"message\":\"This is an error message\",\"timestamp\":\"2024-08-14 13:26:32,831-0600\",\"service\":\"demo-service\",\"cold_start\":true,\"function_name\":\"demo-function\",\"function_memory_size\":128,\"function_arn\":\"arn:aws:lambda:us-west-2:123456789012:function:test-function\",\"function_request_id\":\"fake-request-id\",\"taskName\":\"Task-2\"}\n",
      "\n",
      "{\"level\":\"CRITICAL\",\"location\":\"handler:41\",\"message\":\"This is a critical message\",\"timestamp\":\"2024-08-14 13:26:32,832-0600\",\"service\":\"demo-service\",\"cold_start\":true,\"function_name\":\"demo-function\",\"function_memory_size\":128,\"function_arn\":\"arn:aws:lambda:us-west-2:123456789012:function:test-function\",\"function_request_id\":\"fake-request-id\",\"taskName\":\"Task-2\"}\n",
      "\n",
      "{\"level\":\"ERROR\",\"location\":\"handler:55\",\"message\":\"Exception without traceback: division by zero\",\"timestamp\":\"2024-08-14 13:26:32,832-0600\",\"service\":\"demo-service\",\"cold_start\":true,\"function_name\":\"demo-function\",\"function_memory_size\":128,\"function_arn\":\"arn:aws:lambda:us-west-2:123456789012:function:test-function\",\"function_request_id\":\"fake-request-id\",\"taskName\":\"Task-2\"}\n",
      "\n",
      "{\"level\":\"ERROR\",\"location\":\"handler:57\",\"message\":\"Exception with traceback: division by zero\",\"timestamp\":\"2024-08-14 13:26:32,832-0600\",\"service\":\"demo-service\",\"cold_start\":true,\"function_name\":\"demo-function\",\"function_memory_size\":128,\"function_arn\":\"arn:aws:lambda:us-west-2:123456789012:function:test-function\",\"function_request_id\":\"fake-request-id\",\"taskName\":\"Task-2\",\"exception\":\"Traceback (most recent call last):\\n  File \\\"/var/folders/f3/pxd2mkvj6cvgxr_d9f2brs7w0000gn/T/ipykernel_43218/3030415949.py\\\", line 44, in handler\\n    1 / 0  # raise an exception\\n    ~~^~~\\nZeroDivisionError: division by zero\",\"exception_name\":\"ZeroDivisionError\",\"stack_trace\":{\"type\":\"ZeroDivisionError\",\"value\":\"division by zero\",\"module\":\"builtins\",\"frames\":[{\"file\":\"/var/folders/f3/pxd2mkvj6cvgxr_d9f2brs7w0000gn/T/ipykernel_43218/3030415949.py\",\"line\":44,\"function\":\"handler\",\"statement\":\"1 / 0  # raise an exception\"}]}}\n",
      "\n",
      "{'statusCode': 500, 'body': 'Internal Server Error'}\n"
     ]
    }
   ],
   "source": [
    "import os\n",
    "import sys\n",
    "from typing import Any\n",
    "from aws_lambda_powertools import Logger\n",
    "from aws_lambda_powertools.utilities.typing import LambdaContext\n",
    "import os\n",
    "\n",
    "# Powertools logger level can be configured using the environment variable POWERTOOLS_LOG_LEVEL\n",
    "os.environ[\"POWERTOOLS_LOG_LEVEL\"] = \"WARNING\"\n",
    "\n",
    "# Set the \"service key\" that will be present across all log statements\n",
    "# If you have a lot of different services, being able to easily filter logs by service name will be critical when you are troubleshooting a problem in production.\n",
    "os.environ[\"POWERTOOLS_SERVICE_NAME\"] = \"demo-service\"\n",
    "\n",
    "logger = Logger(\n",
    "    # stream=sys.stdout,\n",
    "    # child=True, # If True, the logger will inherit the configuration from the parent logger into another logger instance\n",
    "    # log_uncaught_exceptions=True,  # log uncaught exceptions\n",
    ")\n",
    "\n",
    "\n",
    "@logger.inject_lambda_context()  # clear_state=True will clear the logger state for each invocation\n",
    "def handler(event: dict, context: LambdaContext) -> Any:\n",
    "    try:\n",
    "        logger.debug(\"This is a debug message\")\n",
    "        print()\n",
    "        logger.info(\"This is an info message\")\n",
    "        print()\n",
    "        logger.info(\"This is an info message with extra metadata\", extra={\"extra_key\": \"extra_value\"})\n",
    "        print()\n",
    "        logger.info(\"This is an info message with another extra metadata\", another_extra_key=\"another_extra_value\")\n",
    "        print()\n",
    "        logger.warning(\"This is a warning message\")\n",
    "        print()\n",
    "\n",
    "        # Add extra data to future log messages\n",
    "        # logger.append_keys(extra_data={\"user_id\": 12345}); print()\n",
    "\n",
    "        logger.error(\"This is an error message\")\n",
    "        print()\n",
    "        logger.critical(\"This is a critical message\")\n",
    "        print()\n",
    "\n",
    "        1 / 0  # raise an exception\n",
    "\n",
    "        logger.info(\"Finished processing the event.\")\n",
    "        print()\n",
    "\n",
    "        return {\"statusCode\": 200, \"body\": \"Hello, World!\"}\n",
    "    except Exception as e:\n",
    "        # THIS format is not supported by the logger\n",
    "        # logger.exception(\"Exception without traceback: {}\", e, exc_info=False); print()\n",
    "        # logger.exception(\"Exception with traceback: {}\", e, exc_info=True); print()\n",
    "\n",
    "        logger.exception(\"Exception without traceback: %s\", e, exc_info=False)\n",
    "        print()\n",
    "        logger.exception(\"Exception with traceback: %s\", e, exc_info=True)\n",
    "        print()\n",
    "        return {\"statusCode\": 500, \"body\": \"Internal Server Error\"}\n",
    "\n",
    "\n",
    "# Simulate the Lambda context (optional)\n",
    "class Context:\n",
    "    def __init__(self):\n",
    "        self.function_name = \"demo-function\"\n",
    "        self.memory_limit_in_mb = 128\n",
    "        self.invoked_function_arn = \"arn:aws:lambda:us-west-2:123456789012:function:test-function\"\n",
    "        self.aws_request_id = \"fake-request-id\"\n",
    "\n",
    "\n",
    "if __name__ == \"__main__\":\n",
    "    context = Context()\n",
    "\n",
    "    # Call the handler function as Lambda would\n",
    "    response = handler({}, context)\n",
    "    print(response)"
   ]
  },
  {
   "cell_type": "markdown",
   "metadata": {},
   "source": [
    "This is how `aws-lambda-powertools` logs look like in AWS CloudWatch:\n",
    "\n",
    "![AWS Lambda Powertools Logs](../assets/lambda_powertools_log.png)"
   ]
  },
  {
   "cell_type": "markdown",
   "metadata": {},
   "source": [
    "## Logging Performance Analysis"
   ]
  },
  {
   "cell_type": "code",
   "execution_count": 6,
   "metadata": {},
   "outputs": [
    {
     "name": "stdout",
     "output_type": "stream",
     "text": [
      "Log file debug.log created successfully in 1.52 seconds.\n",
      "Log file info.log created successfully in 1.18 seconds.\n",
      "Log file warning.log created successfully in 0.90 seconds.\n",
      "Log file error.log created successfully in 0.63 seconds.\n",
      "Log file critical.log created successfully in 0.31 seconds.\n"
     ]
    },
    {
     "data": {
      "image/png": "[encoded data removed]",
      "text/plain": [
       "<Figure size 1000x600 with 1 Axes>"
      ]
     },
     "metadata": {},
     "output_type": "display_data"
    }
   ],
   "source": [
    "import os\n",
    "import timeit\n",
    "import matplotlib.pyplot as plt\n",
    "from loguru import logger\n",
    "import json\n",
    "\n",
    "\n",
    "LOG_LEVELS = [\"DEBUG\", \"INFO\", \"WARNING\", \"ERROR\", \"CRITICAL\"]\n",
    "NUM_EVENTS = 10_000\n",
    "\n",
    "execution_times = []\n",
    "\n",
    "def serialize_extra_keys(record):\n",
    "    extra = record[\"extra\"]\n",
    "    if extra:\n",
    "        record[\"extra\"] = json.dumps(extra)\n",
    "    return record\n",
    "\n",
    "for log_level in LOG_LEVELS:\n",
    "    log_file = f\"{log_level.lower()}.log\"\n",
    "\n",
    "    # Define a function to execute the logging code\n",
    "    def log_messages():\n",
    "        log_file = f\"{log_level.lower()}.log\"\n",
    "        logger.remove()\n",
    "        logger.add(log_file, \n",
    "                   level=log_level, \n",
    "                   format=\"{time:YYYY-MM-DD HH:mm:ss} | {level} | {name}:{line} | {message} | {extra}\", \n",
    "                   filter=serialize_extra_keys,)\n",
    "        for _ in range(NUM_EVENTS):\n",
    "            logger.debug(\"This is a debug message\", extra={\"level\": \"debug\"})\n",
    "            logger.info(\"This is an info message\", extra={\"level\": \"info\"})\n",
    "            logger.warning(\"This is a warning message\", extra={\"level\": \"warning\"})\n",
    "            logger.error(\"This is an error message\", extra={\"level\": \"error\"})\n",
    "            logger.critical(\"This is a critical message\", extra={\"level\": \"critical\"})\n",
    "        logger.remove()\n",
    "        os.remove(log_file)\n",
    "\n",
    "    # Measure the execution time using timeit\n",
    "    execution_time = timeit.timeit(log_messages, number=1)\n",
    "    execution_times.append(execution_time)\n",
    "\n",
    "    print(f\"Log file {log_file} created successfully in {execution_time:.2f} seconds.\")\n",
    "\n",
    "# Plot the results\n",
    "plt.figure(figsize=(10, 6))\n",
    "plt.plot(LOG_LEVELS, execution_times, marker=\"o\")\n",
    "plt.title(f\"Execution time to log {NUM_EVENTS} events at various log levels\")\n",
    "plt.xlabel(\"Log Level\")\n",
    "plt.ylabel(\"Execution Time (seconds)\")\n",
    "plt.grid(True)\n",
    "plt.show()"
   ]
  }
 ],
 "metadata": {
  "kernelspec": {
   "display_name": ".venv",
   "language": "python",
   "name": "python3"
  },
  "language_info": {
   "codemirror_mode": {
    "name": "ipython",
    "version": 3
   },
   "file_extension": ".py",
   "mimetype": "text/x-python",
   "name": "python",
   "nbconvert_exporter": "python",
   "pygments_lexer": "ipython3",
   "version": "3.12.4"
  }
 },
 "nbformat": 4,
 "nbformat_minor": 2
}
